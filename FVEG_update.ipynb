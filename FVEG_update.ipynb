{
 "cells": [
  {
   "cell_type": "code",
   "execution_count": 1,
   "metadata": {},
   "outputs": [],
   "source": [
    "# Import required packages \n",
    "import ee\n",
    "import geemap\n",
    "\n",
    "# Initialize ee\n",
    "ee.Initialize()"
   ]
  },
  {
   "attachments": {},
   "cell_type": "markdown",
   "metadata": {},
   "source": [
    "# California Polygon"
   ]
  },
  {
   "cell_type": "code",
   "execution_count": 2,
   "metadata": {},
   "outputs": [],
   "source": [
    "cali = ee.FeatureCollection('projects/pyregence-ee/assets/rrk/RRK_California').first().geometry() # epsg 3310"
   ]
  },
  {
   "attachments": {},
   "cell_type": "markdown",
   "metadata": {},
   "source": [
    "# Basal Area Lost Data"
   ]
  },
  {
   "cell_type": "code",
   "execution_count": 3,
   "metadata": {},
   "outputs": [],
   "source": [
    "# BA_loss data, in proportions (0-1). Rename each image to its 'year' and add a timestamp. epsg 4326\n",
    "BA85 = (ee.Image('projects/pyregence-ee/assets/rrk/BA_loss_1985').rename('1985').set({'system:time_start': '1985'}))\n",
    "BA86 = (ee.Image('projects/pyregence-ee/assets/rrk/BA_loss_1986').rename('1986').set({'system:time_start': '1986'}))\n",
    "BA87 = (ee.Image('projects/pyregence-ee/assets/rrk/BA_loss_1987').rename('1987').set({'system:time_start': '1987'}))\n",
    "BA88 = (ee.Image('projects/pyregence-ee/assets/rrk/BA_loss_1988').rename('1988').set({'system:time_start': '1988'}))\n",
    "BA89 = (ee.Image('projects/pyregence-ee/assets/rrk/BA_loss_1989').rename('1989').set({'system:time_start': '1989'}))\n",
    "BA90 = (ee.Image('projects/pyregence-ee/assets/rrk/BA_loss_1990').rename('1990').set({'system:time_start': '1990'}))\n",
    "BA91 = (ee.Image('projects/pyregence-ee/assets/rrk/BA_loss_1991').rename('1991').set({'system:time_start': '1991'}))\n",
    "BA92 = (ee.Image('projects/pyregence-ee/assets/rrk/BA_loss_1992').rename('1992').set({'system:time_start': '1992'}))\n",
    "BA93 = (ee.Image('projects/pyregence-ee/assets/rrk/BA_loss_1993').rename('1993').set({'system:time_start': '1993'}))\n",
    "BA94 = (ee.Image('projects/pyregence-ee/assets/rrk/BA_loss_1994').rename('1994').set({'system:time_start': '1994'}))\n",
    "BA95 = (ee.Image('projects/pyregence-ee/assets/rrk/BA_loss_1995').rename('1995').set({'system:time_start': '1995'}))\n",
    "BA96 = (ee.Image('projects/pyregence-ee/assets/rrk/BA_loss_1996').rename('1996').set({'system:time_start': '1996'}))\n",
    "BA97 = (ee.Image('projects/pyregence-ee/assets/rrk/BA_loss_1997').rename('1997').set({'system:time_start': '1997'}))\n",
    "BA98 = (ee.Image('projects/pyregence-ee/assets/rrk/BA_loss_1998').rename('1998').set({'system:time_start': '1998'}))\n",
    "BA99 = (ee.Image('projects/pyregence-ee/assets/rrk/BA_loss_1999').rename('1999').set({'system:time_start': '1999'}))\n",
    "BA00 = (ee.Image('projects/pyregence-ee/assets/rrk/BA_loss_2000').rename('2000').set({'system:time_start': '2000'}))\n",
    "BA01 = (ee.Image('projects/pyregence-ee/assets/rrk/BA_loss_2001').rename('2001').set({'system:time_start': '2001'}))\n",
    "BA02 = (ee.Image('projects/pyregence-ee/assets/rrk/BA_loss_2002').rename('2002').set({'system:time_start': '2002'}))\n",
    "BA03 = (ee.Image('projects/pyregence-ee/assets/rrk/BA_loss_2003').rename('2003').set({'system:time_start': '2003'}))\n",
    "BA04 = (ee.Image('projects/pyregence-ee/assets/rrk/BA_loss_2004').rename('2004').set({'system:time_start': '2004'}))\n",
    "BA05 = (ee.Image('projects/pyregence-ee/assets/rrk/BA_loss_2005').rename('2005').set({'system:time_start': '2005'}))\n",
    "BA06 = (ee.Image('projects/pyregence-ee/assets/rrk/BA_loss_2006').rename('2006').set({'system:time_start': '2006'}))\n",
    "BA07 = (ee.Image('projects/pyregence-ee/assets/rrk/BA_loss_2007').rename('2007').set({'system:time_start': '2007'}))\n",
    "BA08 = (ee.Image('projects/pyregence-ee/assets/rrk/BA_loss_2008').rename('2008').set({'system:time_start': '2008'}))\n",
    "BA09 = (ee.Image('projects/pyregence-ee/assets/rrk/BA_loss_2009').rename('2009').set({'system:time_start': '2009'}))\n",
    "BA10 = (ee.Image('projects/pyregence-ee/assets/rrk/BA_loss_2010').rename('2010').set({'system:time_start': '2010'}))\n",
    "BA11 = (ee.Image('projects/pyregence-ee/assets/rrk/BA_loss_2011').rename('2011').set({'system:time_start': '2011'}))\n",
    "BA12 = (ee.Image('projects/pyregence-ee/assets/rrk/BA_loss_2012').rename('2012').set({'system:time_start': '2012'}))\n",
    "BA13 = (ee.Image('projects/pyregence-ee/assets/rrk/BA_loss_2013').rename('2013').set({'system:time_start': '2013'}))\n",
    "BA14 = (ee.Image('projects/pyregence-ee/assets/rrk/BA_loss_2014').rename('2014').set({'system:time_start': '2014'}))\n",
    "BA15 = (ee.Image('projects/pyregence-ee/assets/rrk/BA_loss_2015').rename('2015').set({'system:time_start': '2015'}))\n",
    "BA16 = (ee.Image('projects/pyregence-ee/assets/rrk/BA_loss_2016').rename('2016').set({'system:time_start': '2016'}))\n",
    "BA17 = (ee.Image('projects/pyregence-ee/assets/rrk/BA_loss_2017').rename('2017').set({'system:time_start': '2017'}))\n",
    "BA18 = (ee.Image('projects/pyregence-ee/assets/rrk/BA_loss_2018').rename('2018').set({'system:time_start': '2018'}))\n",
    "BA19 = (ee.Image('projects/pyregence-ee/assets/rrk/BA_loss_2019').rename('2019').set({'system:time_start': '2019'}))\n",
    "BA20 = (ee.Image('projects/pyregence-ee/assets/rrk/BA_loss_2020').rename('2020').set({'system:time_start': '2020'}))"
   ]
  },
  {
   "cell_type": "code",
   "execution_count": 4,
   "metadata": {},
   "outputs": [],
   "source": [
    "# Compile all the basal area loss images into an image collection\n",
    "ba_loss_all = ee.ImageCollection.fromImages([BA85,\n",
    "                                             BA86,\n",
    "                                             BA87,\n",
    "                                             BA88,\n",
    "                                             BA89,\n",
    "                                             BA90,\n",
    "                                             BA91,\n",
    "                                             BA92,\n",
    "                                             BA93,\n",
    "                                             BA94,\n",
    "                                             BA95,\n",
    "                                             BA96,\n",
    "                                             BA97,\n",
    "                                             BA98,\n",
    "                                             BA99,\n",
    "                                             BA00,\n",
    "                                             BA01,\n",
    "                                             BA02,\n",
    "                                             BA03,\n",
    "                                             BA04,\n",
    "                                             BA05,\n",
    "                                             BA06,\n",
    "                                             BA07,\n",
    "                                             BA08,\n",
    "                                             BA09,\n",
    "                                             BA10,\n",
    "                                             BA11,\n",
    "                                             BA12,\n",
    "                                             BA13,\n",
    "                                             BA14,\n",
    "                                             BA15,\n",
    "                                             BA16,\n",
    "                                             BA17,\n",
    "                                             BA18,\n",
    "                                             BA19,\n",
    "                                             BA20])"
   ]
  },
  {
   "cell_type": "code",
   "execution_count": 5,
   "metadata": {},
   "outputs": [],
   "source": [
    "# Create mask of high severity pixels only (basal area loss GTE 75%)\n",
    "def maskHighSev(image):\n",
    "    highSev_mask = image.gte(0.75)\n",
    "    return image.updateMask(highSev_mask)\n",
    "\n",
    "high_severity = ba_loss_all.map(maskHighSev)"
   ]
  },
  {
   "cell_type": "code",
   "execution_count": 6,
   "metadata": {},
   "outputs": [],
   "source": [
    "# replace high severity pixel values with disturbance date\n",
    "def SevYear(image):\n",
    "    year = image.where(image.gte(0.0001), image.constant(ee.Number.parse(image.get('system:time_start'))))\n",
    "    return year\n",
    "\n",
    "highSev_year = high_severity.map(SevYear)"
   ]
  },
  {
   "cell_type": "code",
   "execution_count": 7,
   "metadata": {},
   "outputs": [],
   "source": [
    "# Convert ImageCollection to multi-band Image\n",
    "HS_year_bands = highSev_year.toBands()"
   ]
  },
  {
   "cell_type": "code",
   "execution_count": 8,
   "metadata": {},
   "outputs": [],
   "source": [
    "# Convert multi-band Image to single band of maximum (most recent) year of high severity\n",
    "HS_year_max = HS_year_bands.reduce(ee.Reducer.max())"
   ]
  },
  {
   "attachments": {},
   "cell_type": "markdown",
   "metadata": {},
   "source": [
    "# FVEG WHRtype, year and lifeform data"
   ]
  },
  {
   "cell_type": "code",
   "execution_count": 9,
   "metadata": {},
   "outputs": [],
   "source": [
    "# read in FVEG lifeform and year datasets, epsg 3857\n",
    "fveg_whrtype = ee.Image('projects/pyregence-ee/assets/rrk/fveg_whrtype')\n",
    "fveg_form = ee.Image('projects/pyregence-ee/assets/rrk/fveg_lifeform')\n",
    "fveg_year = ee.Image('projects/pyregence-ee/assets/rrk/fveg_year')\n",
    "\n",
    "# reproject fveg datasets to epsg 3310\n",
    "fveg_whrtype_3310 = fveg_whrtype.reproject(crs='EPSG:3310', scale = 30)\n",
    "fveg_form_3310 = fveg_form.reproject(crs='EPSG:3310', scale = 30)\n",
    "fveg_year_3310 = fveg_year.reproject(crs='EPSG:3310', scale = 30)"
   ]
  },
  {
   "cell_type": "code",
   "execution_count": 10,
   "metadata": {},
   "outputs": [],
   "source": [
    "# Reproject high severity mask to match region epsg (3310)\n",
    "HS_year_max_3310 = HS_year_max.reproject(crs= fveg_whrtype_3310.projection().crs(), scale = fveg_whrtype_3310.projection().nominalScale())"
   ]
  },
  {
   "cell_type": "code",
   "execution_count": 11,
   "metadata": {},
   "outputs": [],
   "source": [
    "# Create mask where high severity disturbance occurred after fveg map date\n",
    "HS_mask = HS_year_max_3310.gt(fveg_year_3310)\n",
    "\n",
    "# mask fveg lifeform to high severity for conversion classification\n",
    "fveg_form_hs = fveg_form_3310.mask(HS_mask)"
   ]
  },
  {
   "attachments": {},
   "cell_type": "markdown",
   "metadata": {},
   "source": [
    "# LandFire cover type"
   ]
  },
  {
   "cell_type": "code",
   "execution_count": 12,
   "metadata": {},
   "outputs": [],
   "source": [
    "# Pull in LandFire type\n",
    "lf_type = ee.Image('projects/pyregence-ee/assets/conus/landfire/evt/LF2016_EVT_200')\n",
    "\n",
    "# reproject to epsg 3310\n",
    "lf_type_3310 = lf_type.reproject(crs= fveg_whrtype_3310.projection().crs(), scale = fveg_whrtype_3310.projection().nominalScale())\n",
    "\n",
    "# clip to California\n",
    "lf_type_cali = lf_type_3310.clip(cali)\n",
    "\n",
    "# mask to high severity\n",
    "lf_type_hs = lf_type_cali.mask(HS_mask)"
   ]
  },
  {
   "attachments": {},
   "cell_type": "markdown",
   "metadata": {},
   "source": [
    "# Lifeform to lifeform conversion raster"
   ]
  },
  {
   "cell_type": "code",
   "execution_count": 13,
   "metadata": {},
   "outputs": [],
   "source": [
    "# fveg code to lifeform:\n",
    "# 1 - Conifer\n",
    "# 2 - Shrub\n",
    "# 3 - Herbaceous\n",
    "# 4 - Barren/Other\n",
    "# 5 - Urban\n",
    "# 6 - Hardwood\n",
    "# 7 - Water\n",
    "# 8 - Agriculture\n",
    "# 9 - Tree  *** #9 is a new classification added for this exercise***\n",
    "\n",
    "# relabel fveg conifer (1) and hardwood (6) to new fveg classification 'tree' (9)\n",
    "fveg_form_hs_con = fveg_form_hs.where(fveg_form_hs.eq(1), 9)\n",
    "fveg_form_hs_tree = fveg_form_hs_con.where(fveg_form_hs_con.eq(6), 9)"
   ]
  },
  {
   "cell_type": "code",
   "execution_count": 14,
   "metadata": {},
   "outputs": [],
   "source": [
    "# LF code to lifeform:\n",
    "# 1 - NA\n",
    "# 2 - Tree\n",
    "# 3 - Shrub\n",
    "# 4 - Herbaceous\n",
    "# 5 - Water\n",
    "# 6 - Barren\n",
    "# 7 - Developed\n",
    "# 8 - Sparse\n",
    "# 9 - Snow-Ice\n",
    "# 10 - Agriculture\n",
    "\n",
    "lf_lifeform = ee.Image('projects/pyregence-ee/assets/rrk/landfire_lifeform_CA')\n",
    "lf_lifeform_3310 = lf_lifeform.reproject(crs= fveg_whrtype_3310.projection().crs(), scale = fveg_whrtype_3310.projection().nominalScale())"
   ]
  },
  {
   "cell_type": "code",
   "execution_count": 15,
   "metadata": {},
   "outputs": [],
   "source": [
    "# Create change raster (fveg_form_hs_tree to lf_lifeform)\n",
    "# 10 - FVEG herb 3 to LF herb 4\n",
    "# 20 - FVEG herb 3 to LF shrub 3\n",
    "# 30 - FVEG herb 3 to LF tree 2\n",
    "# 40 - FVEG shrub 2 to LF herb 4\n",
    "# 50 - FVEG shrub 2 to LF shrub 3\n",
    "# 60 - FVEG shrub 2 to LF tree 2 \n",
    "# 70 - FVEG tree 9 to LF herb 4\n",
    "# 80 - FVEG tree 9 to LF shrub 3\n",
    "# 90 - FVEG tree 9 to LF tree 2\n",
    "\n",
    "delta_10 = fveg_form_hs_tree.where(fveg_form_hs_tree.eq(3).And(lf_lifeform_3310.eq(4)), 10)\n",
    "delta_20 = delta_10.where(delta_10.eq(3).And(lf_lifeform_3310.eq(3)), 20)\n",
    "delta_30 = delta_20.where(delta_20.eq(3).And(lf_lifeform_3310.eq(2)), 30)\n",
    "delta_40 = delta_30.where(delta_30.eq(2).And(lf_lifeform_3310.eq(4)), 40)\n",
    "delta_50 = delta_40.where(delta_40.eq(2).And(lf_lifeform_3310.eq(3)), 50)\n",
    "delta_60 = delta_50.where(delta_50.eq(2).And(lf_lifeform_3310.eq(2)), 60)\n",
    "delta_70 = delta_60.where(delta_60.eq(9).And(lf_lifeform_3310.eq(4)), 70)\n",
    "delta_80 = delta_70.where(delta_70.eq(9).And(lf_lifeform_3310.eq(3)), 80)\n",
    "delta_90 = delta_80.where(delta_80.eq(9).And(lf_lifeform_3310.eq(2)), 90)"
   ]
  },
  {
   "attachments": {},
   "cell_type": "markdown",
   "metadata": {},
   "source": [
    "# Rangeland Analysis Platform"
   ]
  },
  {
   "cell_type": "code",
   "execution_count": 16,
   "metadata": {},
   "outputs": [],
   "source": [
    "year = '2021' \n",
    "ag = (ee.ImageCollection(\"projects/rangeland-analysis-platform/vegetation-cover-v3\")\n",
    "      .filterDate(ee.Date(year)) \n",
    "      .select('AFG')) \n",
    "pg = (ee.ImageCollection(\"projects/rangeland-analysis-platform/vegetation-cover-v3\")\n",
    "      .filterDate( ee.Date(year)) \n",
    "      .select('PFG')) "
   ]
  },
  {
   "cell_type": "code",
   "execution_count": 17,
   "metadata": {},
   "outputs": [],
   "source": [
    "# ImageCollection to Image\n",
    "ag_ = ag.toBands()\n",
    "pg_ = pg.toBands()"
   ]
  },
  {
   "cell_type": "code",
   "execution_count": 18,
   "metadata": {},
   "outputs": [],
   "source": [
    "# reproject\n",
    "ag_3310 = ag_.reproject(crs= fveg_whrtype_3310.projection().crs(), scale = fveg_whrtype_3310.projection().nominalScale())\n",
    "pg_3310 = pg_.reproject(crs= fveg_whrtype_3310.projection().crs(), scale = fveg_whrtype_3310.projection().nominalScale())"
   ]
  },
  {
   "attachments": {},
   "cell_type": "markdown",
   "metadata": {},
   "source": [
    "# CFO data"
   ]
  },
  {
   "cell_type": "code",
   "execution_count": 19,
   "metadata": {},
   "outputs": [],
   "source": [
    "# CFO canopy cover, epsg 3310\n",
    "CFO_CC_2020 = ee.Image('projects/pyregence-ee/assets/rrk/CFO_CC_2020')\n",
    "CFO_CC_2019 = ee.Image('projects/pyregence-ee/assets/rrk/CFO_CC_2019')\n",
    "CFO_CC_2018 = ee.Image('projects/pyregence-ee/assets/rrk/CFO_CC_2018')\n",
    "CFO_CC_2017 = ee.Image('projects/pyregence-ee/assets/rrk/CFO_CC_2017')\n",
    "CFO_CC_2016 = ee.Image('projects/pyregence-ee/assets/rrk/CFO_CC_2016')\n",
    "\n",
    "# CFO canopy height, epsg 3310\n",
    "CFO_CH_2020 = ee.Image('projects/pyregence-ee/assets/rrk/CFO_CH_2020')\n",
    "CFO_CH_2019 = ee.Image('projects/pyregence-ee/assets/rrk/CFO_CH_2019')\n",
    "CFO_CH_2018 = ee.Image('projects/pyregence-ee/assets/rrk/CFO_CH_2018')\n",
    "CFO_CH_2017 = ee.Image('projects/pyregence-ee/assets/rrk/CFO_CH_2017')\n",
    "CFO_CH_2016 = ee.Image('projects/pyregence-ee/assets/rrk/CFO_CH_2016')\n",
    "\n",
    "# Images to imageCollection\n",
    "cfo_cc = (CFO_CC_2020\n",
    "          .addBands(CFO_CC_2019.rename('b2019'))\n",
    "          .addBands(CFO_CC_2018.rename('b2018'))\n",
    "          .addBands(CFO_CC_2017.rename('b2017'))\n",
    "          .addBands(CFO_CC_2016.rename('b2016')))\n",
    "cfo_ch = (CFO_CH_2020\n",
    "          .addBands(CFO_CH_2019.rename('b2019'))\n",
    "          .addBands(CFO_CH_2018.rename('b2018'))\n",
    "          .addBands(CFO_CH_2017.rename('b2017'))\n",
    "          .addBands(CFO_CH_2016.rename('b2016')))\n",
    "\n",
    "# reduce to single band image of average values\n",
    "cc = cfo_cc.reduce(ee.Reducer.mean())\n",
    "ch = cfo_ch.reduce(ee.Reducer.mean())\n",
    "\n",
    "# reproject\n",
    "cc2 = cc.reproject(crs= fveg_whrtype_3310.projection().crs(), scale = fveg_whrtype_3310.projection().nominalScale())\n",
    "ch2 = ch.reproject(crs= fveg_whrtype_3310.projection().crs(), scale = fveg_whrtype_3310.projection().nominalScale())\n",
    "\n",
    "# clip to california\n",
    "cc_ca = cc2.clip(cali)\n",
    "ch_ca = ch2.clip(cali)"
   ]
  },
  {
   "cell_type": "code",
   "execution_count": 20,
   "metadata": {},
   "outputs": [],
   "source": [
    "# FVEG CC classes\n",
    "# 5 - Sparse Cover (S) (<25%)\n",
    "# 4 - Open Cover (P) (25-40%)\n",
    "# 3 - Null\n",
    "# 2 - Moderate Cover (M) (40-60%)\n",
    "# 1 - Dense Cover (D) (>60%)\n",
    "\n",
    "cc_class0 = cc_ca.where(cc2.lt(10), 3)\n",
    "cc_class1 = cc_class0.where(cc2.lt(25).And(cc_class0.gte(10)), 5)\n",
    "cc_class2 = cc_class1.where(cc_class1.lt(40).And(cc_class1.gte(25)), 4)\n",
    "cc_class3 = cc_class2.where(cc_class2.lt(60).And(cc_class2.gte(40)), 2)\n",
    "cc_classes = cc_class3.where(cc_class3.gte(60), 1)"
   ]
  },
  {
   "cell_type": "code",
   "execution_count": 21,
   "metadata": {},
   "outputs": [],
   "source": [
    "# FVEG CH (size) classes\n",
    "# 6 - seedling tree (<1.0\")\n",
    "# 3 - Sapling tree (1.0 - 5.9\")\n",
    "# 5 - Pole tree (6.0 - 10.9\")\n",
    "# 1 - Small tree (11.0 - 23.9\")\n",
    "# 2 - medium/large tree (GTE 24\")\n",
    "# 4 - Null\n",
    "# 7 - Multilayered (FVEG only)\n",
    "\n",
    "# convert height (m) to FVEG DBH class (see John Battle's 'Height to DBH analysis_9Jan2023.doc' for details)\n",
    "hardwood_dbh0 = ch_ca.where(ch_ca.eq(0), 4)\n",
    "hardwood_dbh1 = hardwood_dbh0.where(hardwood_dbh0.lte(0.76).And(hardwood_dbh0.gt(0)), 6)\n",
    "hardwood_dbh2 = hardwood_dbh1.where(hardwood_dbh1.lte(4.57).And(hardwood_dbh1.gt(0.76)), 3)\n",
    "hardwood_dbh3 = hardwood_dbh2.where(hardwood_dbh2.lte(8.69).And(hardwood_dbh2.gt(4.57)), 5)\n",
    "hardwood_dbh4 = hardwood_dbh3.where(hardwood_dbh3.lte(20.57).And(hardwood_dbh3.gt(8.69)), 1)\n",
    "hardwood_dbh_classes = hardwood_dbh4.where(hardwood_dbh4.gt(20.57), 2)\n",
    "\n",
    "conifer_dbh0 = ch_ca.where(ch_ca.eq(0), 0)\n",
    "conifer_dbh1 = conifer_dbh0.where(conifer_dbh0.lte(0.61).And(conifer_dbh0.gt(0)), 6)\n",
    "conifer_dbh2 = conifer_dbh1.where(conifer_dbh1.lte(3.81).And(conifer_dbh1.gt(0.61)), 3)\n",
    "conifer_dbh3 = conifer_dbh2.where(conifer_dbh2.lte(7.47).And(conifer_dbh2.gt(3.81)), 5)\n",
    "conifer_dbh4 = conifer_dbh3.where(conifer_dbh3.lte(18.59).And(conifer_dbh3.gt(7.47)), 1)\n",
    "conifer_dbh_classes = conifer_dbh4.where(conifer_dbh4.gt(18.59), 2)"
   ]
  },
  {
   "attachments": {},
   "cell_type": "markdown",
   "metadata": {},
   "source": [
    "# Mask for areas in high severity but WHRtype NOT UPDATED are where, value = 100:\n",
    "\n",
    "       Herb-to-herb conversion where annual grass (AG) cover <50% and where perennial grass (PG) cover <50%\n",
    "\n",
    "       Shrub-to-shrub conversion\n",
    "\n",
    "       Tree-to-Tree conversion\n"
   ]
  },
  {
   "cell_type": "code",
   "execution_count": 22,
   "metadata": {},
   "outputs": [],
   "source": [
    "# no_update_all_mask = delta_90.mask(delta_90.eq(10).And(ag_.lt(50)).And(pg_.lt(50)) # Herb-to-herb conversion where annual grass (AG) cover <50% and where perennial grass (PG) cover <50%\n",
    "#                                    .Or(delta_90.eq(50)) # Shrub-to-shrub conversion\n",
    "#                                    .Or(delta_90.eq(90))) # Tree-to-Tree conversion\n",
    "# no_update_all = no_update_all_mask.where(no_update_all_mask, 100)"
   ]
  },
  {
   "attachments": {},
   "cell_type": "markdown",
   "metadata": {},
   "source": [
    "# Mask for areas in high severity updated to 'Annual Grassland', value = 200:\n",
    "\n",
    "    Herb-to-herb conversion where AG cover >50%\n",
    "\n",
    "    Shrub-to-Herb conversion where CH <1m & AG cover >50%\n",
    "\n",
    "    Tree-to-Herb conversion where CH <2m & AG cover >50%"
   ]
  },
  {
   "cell_type": "code",
   "execution_count": 24,
   "metadata": {},
   "outputs": [],
   "source": [
    "ag_update_all_mask = delta_90.mask(delta_90.eq(10).And(ag_3310.gte(50)) # Herb-to-herb conversion where AG cover >50%\n",
    "                                    .Or(delta_90.eq(40).And(ch_ca.lt(1)).And(ag_3310.gte(50))) # Shrub-to-Herb conversion where CH <1m & AG cover >50%\n",
    "                                    .Or(delta_90.eq(70).And(ch_ca.lt(2)).And(ag_3310.gte(50)))) # Tree-to-Herb conversion where CH <2m & AG cover >50%\n",
    "ag_update_all = ag_update_all_mask.where(ag_update_all_mask, 200)"
   ]
  },
  {
   "attachments": {},
   "cell_type": "markdown",
   "metadata": {},
   "source": [
    "# Mask for areas in high severity updated to 'Perennial Grassland', value = 300:\n",
    "\n",
    "    Herb-to-herb conversion where PG cover >50%\n",
    "\n",
    "    Shrub-to-Herb conversion where CH <1m & PG cover >50%\n",
    "\n",
    "    Tree-to-Herb conversion where CH <2m & PG cover >50%"
   ]
  },
  {
   "cell_type": "code",
   "execution_count": 25,
   "metadata": {},
   "outputs": [],
   "source": [
    "pg_update_all_mask = delta_90.mask(delta_90.eq(10).And(pg_3310.gte(50)) # Herb-to-herb conversion where PG cover >50%\n",
    "                                    .Or(delta_90.eq(40).And(ch_ca.lt(1)).And(pg_3310.gte(50))) # Shrub-to-Herb conversion where CH <1m & PG cover >50%\n",
    "                                    .Or(delta_90.eq(70).And(ch_ca.lt(2)).And(pg_3310.gte(50)))) # Tree-to-Herb conversion where CH <2m & PG cover >50%\n",
    "pg_update_all = pg_update_all_mask.where(pg_update_all_mask, 300)"
   ]
  },
  {
   "attachments": {},
   "cell_type": "markdown",
   "metadata": {},
   "source": [
    "# Mask for areas in high severity updated using LandFire-FVEG crosswalk, value = 400:\n",
    "\n",
    "    Shrub-to-Herb conversion where AG cover <50% and where PG cover <50%\n",
    "\n",
    "    Tree-to-Herb conversion where AG cover <50% and where PG cover <50%\n",
    "\n",
    "    Herb-to-Shrub\n",
    "\n",
    "    Tree-to-Shrub\n",
    "\n",
    "    Herb-to-Tree\n",
    "\n",
    "    Shrub-to-Tree"
   ]
  },
  {
   "cell_type": "code",
   "execution_count": 26,
   "metadata": {},
   "outputs": [],
   "source": [
    "lf_update_all_mask = delta_90.mask(delta_90.eq(40).And(ch_ca.lt(1)).And(ag_3310.lt(50)).And(pg_3310.lt(50)) # Shrub-to-Herb conversion where CH <1m and AG cover <50% and PG cover <50%\n",
    "                                    .Or(delta_90.eq(40).And(ch_ca.gte(1))) # Shrub-to-Herb conversion where CH >1m \n",
    "                                    .Or(delta_90.eq(70).And(ch_ca.lt(2)).And(ag_3310.lt(50)).And(pg_3310.lt(50))) # Tree-to-Herb conversion where CH <2m and AG cover <50% and PG cover <50%\n",
    "                                    .Or(delta_90.eq(70).And(ch_ca.gte(2))) # Tree-to-Herb conversion where CH >2m\n",
    "                                    .Or(delta_90.eq(20)) # Herb-to-Shrub\n",
    "                                    .Or(delta_90.eq(80)) # Tree-to-Shrub\n",
    "                                    .Or(delta_90.eq(30)) # Herb-to-Tree\n",
    "                                    .Or(delta_90.eq(60))) # Shrub-to-Tree\n",
    "lf_update_all = lf_update_all_mask.where(lf_update_all_mask, 400)"
   ]
  },
  {
   "attachments": {},
   "cell_type": "markdown",
   "metadata": {},
   "source": [
    "# Remap LandFire evt_code to crosswalked FVEG WHRtype code"
   ]
  },
  {
   "cell_type": "code",
   "execution_count": 27,
   "metadata": {},
   "outputs": [],
   "source": [
    "# remap Landfire evt_code to crosswalked FVEG WHRtype code\n",
    "fromList = [7008,7011,7012,7014,7015,7016,7017,7019,7020,7021,7022,7023,7024,7025,7026,7027,7028,7029,7030,7031,7032,7033,7034,7035,7036,7037,7039,7041,7042,7043,7044,7045,7046,7047,7050,7051,7052,7053,7054,7055,7056,7057,7058,\n",
    "            7061,7062,7064,7065,7066,7067,7068,7070,7071,7073,7078,7079,7080,7081,7082,7083,7084,7086,7087,7088,7090,7091,7092,7093,7096,7097,7098,7099,7102,7103,7104,7105,7106,7107,7108,7109,7110,7112,7113,7114,7115,7116,7117,\n",
    "            7118,7121,7123,7124,7125,7126,7127,7128,7129,7130,7131,7134,7135,7136,7137,7138,7139,7140,7143,7144,7145,7146,7151,7152,7153,7156,7157,7158,7159,7165,7166,7167,7169,7170,7171,7172,7173,7174,7177,7191,7198,7234,7250,\n",
    "            7256,7260,7261,7264,7265,7270,7292,7295,7296,7297,7298,7299,7662,7663,7668,7733,7734,7735,7900,7901,7902,7903,7904,7910,7911,7912,7913,7914,7920,7921,7922,7923,7924,7925,7926,7927,7928,7929,7940,7942,7943,7944,7945,\n",
    "            7947,7948,7949,7960,7961,7962,7963,7964,7965,7966,7967,7968,7980,7981,7982,7983,7984,7985,7986,7987,7988,7989,9001,9003,9005,9006,9008,9009,9010,9011,9012,9016,9017,9018,9019,9021,9022,9030,9032,9033,9034,9035,9062,\n",
    "            9110,9125,9129,9133,9146,9147,9148,9150,9151,9152,9153,9154,9160,9166,9167,9170,9213,9246,9272,9301,9302,9307,9308,9309,9310,9326,9327,9328,9329,9336,9337,9503,9505,9512,9519,9533,9534,9535,9629,9633,9652,9654,9667,\n",
    "            9810,9826,9827,9828,9829]\n",
    "\n",
    "toList = [1,35,5,14,19,55,16,55,8,1,1,55,31,16,31,29,29,27,29,24,2,8,50,3,3,3,3,3,3,29,8,31,8,29,28,29,29,17,17,8,8,8,28,35,7,33,33,41,44,44,44,44,64,60,30,30,41,60,44,7,7,60,60,60,60,21,60,15,15,13,15,30,15,7,15,7,7,60,64,15,\n",
    "          51,27,50,16,16,17,27,60,6,33,30,30,30,21,6,6,6,6,6,44,10,6,6,6,6,6,6,6,47,47,30,5,5,5,5,31,3,28,44,1,44,4,3,3,26,6,6,15,55,6,13,14,53,50,15,48,9,12,12,12,12,46,5,45,9,9,9,12,12,12,12,12,12,12,12,12,12,59,58,12,57,6,\n",
    "          59,58,12,57,6,59,12,57,6,59,12,57,6,63,43,63,23,23,23,23,20,23,63,43,63,23,23,23,23,20,23,10,9,5,6,9,9,41,61,46,5,9,10,9,5,5,5,61,9,9,56,56,9,9,9,47,47,9,9,46,41,41,56,9,61,9,6,6,14,9,9,10,11,12,11,11,6,60,15,12,12,\n",
    "          60,12,12,5,6,5,5,60,56,56,47,47,56,61,21,6,11,56,12,10]\n",
    "\n",
    "landfire_whrtype = lf_type_hs.remap(fromList, toList, 0)\n",
    "\n",
    "# Mask landfire whrtype to where landfire update is needed\n",
    "lf_update_mask = landfire_whrtype.mask(lf_update_all)"
   ]
  },
  {
   "attachments": {},
   "cell_type": "markdown",
   "metadata": {},
   "source": [
    "# Update FVEG WHRtype"
   ]
  },
  {
   "cell_type": "code",
   "execution_count": 28,
   "metadata": {},
   "outputs": [],
   "source": [
    "# annual grasslands update\n",
    "fveg_ag_update = fveg_whrtype_3310.where(ag_update_all, 11)\n",
    "\n",
    "# perennial grasslands update\n",
    "fveg_pg_update = fveg_ag_update.where(pg_update_all, 6)\n",
    "\n",
    "# landfire update\n",
    "fveg_update_all2 = fveg_pg_update.where(lf_update_mask, landfire_whrtype)"
   ]
  },
  {
   "cell_type": "code",
   "execution_count": 29,
   "metadata": {},
   "outputs": [],
   "source": [
    "# task5 = ee.batch.Export.image.toDrive(fveg_update_all2,\n",
    "#                                      description='fveg_update_all2',\n",
    "#                                      folder = 'FVEG_updates',\n",
    "#                                      region = cali,\n",
    "#                                      scale=30,\n",
    "#                                      fileNamePrefix='fveg_update_all2',\n",
    "#                                      crs='EPSG:3310',\n",
    "#                                      maxPixels= 1e13,\n",
    "#                                      fileFormat='GeoTIFF')\n",
    "# task5.start()"
   ]
  },
  {
   "cell_type": "code",
   "execution_count": 30,
   "metadata": {},
   "outputs": [],
   "source": [
    "# task5.status()"
   ]
  },
  {
   "attachments": {},
   "cell_type": "markdown",
   "metadata": {},
   "source": [
    "# The update mask"
   ]
  },
  {
   "cell_type": "code",
   "execution_count": 31,
   "metadata": {},
   "outputs": [],
   "source": [
    "# the update mask\n",
    "final_update_mask = (ag_update_all\n",
    "                     .addBands(pg_update_all)\n",
    "                     .addBands(lf_update_all))\n",
    "\n",
    "# reduce to single band image of max values\n",
    "final_update_mask2 = final_update_mask.reduce(ee.Reducer.max())"
   ]
  },
  {
   "cell_type": "code",
   "execution_count": 32,
   "metadata": {},
   "outputs": [],
   "source": [
    "# task8 = ee.batch.Export.image.toDrive(image=final_update_mask2,\n",
    "#                                      description='final_update_mask2',\n",
    "#                                      folder = 'FVEG_updates',\n",
    "#                                      region = cali,\n",
    "#                                      scale=30,\n",
    "#                                      fileNamePrefix='final_update_mask2',\n",
    "#                                      crs='EPSG:3310',\n",
    "#                                      maxPixels= 1e13,\n",
    "#                                      fileFormat='GeoTIFF')\n",
    "# task8.start()"
   ]
  },
  {
   "cell_type": "code",
   "execution_count": 33,
   "metadata": {},
   "outputs": [],
   "source": [
    "# task8.status()"
   ]
  },
  {
   "attachments": {},
   "cell_type": "markdown",
   "metadata": {},
   "source": [
    "# CFO data for tree cover types"
   ]
  },
  {
   "cell_type": "code",
   "execution_count": 34,
   "metadata": {},
   "outputs": [],
   "source": [
    "# FVEG WHRtype to life form\n",
    "# remap FVEG WHRtype to crosswalked life form\n",
    "fromList2 = [1,2,3,4,5,6,7,8,9,10,11,12,13,14,15,16,17,18,19,20,21,22,23,24,25,26,27,28,29,30,31,32,33,34,35,36,37,38,39,40,41,42,43,44,45,46,47,48,49,50,51,52,53,54,55,56,57,58,59,60,61,62,63,64,65]\n",
    "\n",
    "toList2 = [1,1,1,1,2,3,2,1,4,3,3,5,6,1,2,1,1,7,1,3,2,7,8,1,7,1,6,1,1,2,1,2,2,8,6,2,8,7,8,8,2,8,8,2,3,3,6,7,8,6,6,8,6,6,1,6,2,1,6,2,2,6,8,2,6]\n",
    "\n",
    "updated_lifeform = fveg_update_all2.remap(fromList2, toList2, 0)"
   ]
  },
  {
   "cell_type": "code",
   "execution_count": 35,
   "metadata": {},
   "outputs": [],
   "source": [
    "# FVEG WHRsize and WHRdensity for trees outside CA political boundary\n",
    "whrden = ee.Image('projects/pyregence-ee/assets/rrk/WHRDENSITY')\n",
    "whrsize = ee.Image('projects/pyregence-ee/assets/rrk/WHRSIZE')"
   ]
  },
  {
   "cell_type": "code",
   "execution_count": 37,
   "metadata": {},
   "outputs": [],
   "source": [
    "# Cover Classes\n",
    "# mask of where there are trees\n",
    "trees = updated_lifeform.mask(updated_lifeform.eq(1) # where are the trees?\n",
    "                              .Or(updated_lifeform.eq(6)))\n",
    "den_trees_mask = whrden.mask(trees) # mask WHRdensity to where there are trees\n",
    "fveg_cc = den_trees_mask.where(den_trees_mask, whrden) # fill in mask with WHRdensity values\n",
    "whr_den_update = fveg_cc.where(trees, cc_classes) # update with CFO cover classes"
   ]
  },
  {
   "cell_type": "code",
   "execution_count": 39,
   "metadata": {},
   "outputs": [],
   "source": [
    "# task6 = ee.batch.Export.image.toDrive(image=whr_den_update,\n",
    "#                                      description='whr_den_update',\n",
    "#                                      folder = 'FVEG_updates',\n",
    "#                                      region = cali,\n",
    "#                                      scale=30,\n",
    "#                                      fileNamePrefix='whr_den_update',\n",
    "#                                      crs='EPSG:3310',\n",
    "#                                      maxPixels= 1e13,\n",
    "#                                      fileFormat='GeoTIFF')\n",
    "# task6.start()"
   ]
  },
  {
   "cell_type": "code",
   "execution_count": 40,
   "metadata": {},
   "outputs": [
    {
     "data": {
      "text/plain": [
       "{'state': 'READY',\n",
       " 'description': 'whr_den_update',\n",
       " 'creation_timestamp_ms': 1678474812679,\n",
       " 'update_timestamp_ms': 1678474812679,\n",
       " 'start_timestamp_ms': 0,\n",
       " 'task_type': 'EXPORT_IMAGE',\n",
       " 'id': 'EGB4PXWKJSNG73PEDABNBQEH',\n",
       " 'name': 'projects/earthengine-legacy/operations/EGB4PXWKJSNG73PEDABNBQEH'}"
      ]
     },
     "execution_count": 40,
     "metadata": {},
     "output_type": "execute_result"
    }
   ],
   "source": [
    "# task6.status()"
   ]
  },
  {
   "cell_type": "code",
   "execution_count": 41,
   "metadata": {},
   "outputs": [],
   "source": [
    "# DBH Classes\n",
    "con_mask = updated_lifeform.mask(updated_lifeform.eq(1)) # where are the conifers?\n",
    "hdw_mask = updated_lifeform.mask(updated_lifeform.eq(6)) # where are the hardwoods?\n",
    "\n",
    "size_trees_mask = whrsize.mask(trees) # mask WHRsize to where there are trees\n",
    "fveg_size = size_trees_mask.where(size_trees_mask, whrsize) # fill in mask with WHRsize values\n",
    "\n",
    "con_dbh = fveg_size.where(con_mask, conifer_dbh_classes) # update conifer size classes\n",
    "hdw_dbh = con_dbh.where(hdw_mask, hardwood_dbh_classes) # update hardwood size classes\n",
    "whr_size_update = hdw_dbh.where(fveg_size.eq(7), 7) # replace FVEG \"multi-layered\" classification"
   ]
  },
  {
   "cell_type": "code",
   "execution_count": 42,
   "metadata": {},
   "outputs": [],
   "source": [
    "# task7 = ee.batch.Export.image.toDrive(image=whr_size_update,\n",
    "#                                      description='whr_size_update',\n",
    "#                                      folder = 'FVEG_updates',\n",
    "#                                      region = cali,\n",
    "#                                      scale=30,\n",
    "#                                      fileNamePrefix='whr_size_update',\n",
    "#                                      crs='EPSG:3310',\n",
    "#                                      maxPixels= 1e13,\n",
    "#                                      fileFormat='GeoTIFF')\n",
    "# task7.start()"
   ]
  },
  {
   "cell_type": "code",
   "execution_count": 43,
   "metadata": {},
   "outputs": [
    {
     "data": {
      "text/plain": [
       "{'state': 'READY',\n",
       " 'description': 'whr_size_update',\n",
       " 'creation_timestamp_ms': 1678475291646,\n",
       " 'update_timestamp_ms': 1678475291646,\n",
       " 'start_timestamp_ms': 0,\n",
       " 'task_type': 'EXPORT_IMAGE',\n",
       " 'id': 'FRWXHPJBICO42A26NIYHO2MA',\n",
       " 'name': 'projects/earthengine-legacy/operations/FRWXHPJBICO42A26NIYHO2MA'}"
      ]
     },
     "execution_count": 43,
     "metadata": {},
     "output_type": "execute_result"
    }
   ],
   "source": [
    "# task7.status()"
   ]
  },
  {
   "attachments": {},
   "cell_type": "markdown",
   "metadata": {},
   "source": [
    "Geemap Map"
   ]
  },
  {
   "cell_type": "code",
   "execution_count": 115,
   "metadata": {},
   "outputs": [],
   "source": [
    "viz_viridis = {\n",
    "   'palette': ['440154', '440256', '450457', '450559', '46075a', '46085c', '460a5d', '460b5e', '470d60', '470e61', '471063', '471164', '471365', '481467', '481668', '481769', '48186a', \n",
    "               '481a6c', '481b6d', '481c6e', '481d6f', '481f70', '482071', '482173', '482374', '482475', '482576', '482677', '482878', '482979', '472a7a', '472c7a', '472d7b', '472e7c', \n",
    "               '472f7d', '46307e', '46327e', '46337f', '463480', '453581', '453781', '453882', '443983', '443a83', '443b84', '433d84', '433e85', '423f85', '424086', '424186', '414287', \n",
    "               '414487', '404588', '404688', '3f4788', '3f4889', '3e4989', '3e4a89', '3e4c8a', '3d4d8a', '3d4e8a', '3c4f8a', '3c508b', '3b518b', '3b528b', '3a538b', '3a548c', '39558c', \n",
    "               '39568c', '38588c', '38598c', '375a8c', '375b8d', '365c8d', '365d8d', '355e8d', '355f8d', '34608d', '34618d', '33628d', '33638d', '32648e', '32658e', '31668e', '31678e', \n",
    "               '31688e', '30698e', '306a8e', '2f6b8e', '2f6c8e', '2e6d8e', '2e6e8e', '2e6f8e', '2d708e', '2d718e', '2c718e', '2c728e', '2c738e', '2b748e', '2b758e', '2a768e', '2a778e', \n",
    "               '2a788e', '29798e', '297a8e', '297b8e', '287c8e', '287d8e', '277e8e', '277f8e', '27808e', '26818e', '26828e', '26828e', '25838e', '25848e', '25858e', '24868e', '24878e', \n",
    "               '23888e', '23898e', '238a8d', '228b8d', '228c8d', '228d8d', '218e8d', '218f8d', '21908d', '21918c', '20928c', '20928c', '20938c', '1f948c', '1f958b', '1f968b', '1f978b', \n",
    "               '1f988b', '1f998a', '1f9a8a', '1e9b8a', '1e9c89', '1e9d89', '1f9e89', '1f9f88', '1fa088', '1fa188', '1fa187', '1fa287', '20a386', '20a486', '21a585', '21a685', '22a785', \n",
    "               '22a884', '23a983', '24aa83', '25ab82', '25ac82', '26ad81', '27ad81', '28ae80', '29af7f', '2ab07f', '2cb17e', '2db27d', '2eb37c', '2fb47c', '31b57b', '32b67a', '34b679', \n",
    "               '35b779', '37b878', '38b977', '3aba76', '3bbb75', '3dbc74', '3fbc73', '40bd72', '42be71', '44bf70', '46c06f', '48c16e', '4ac16d', '4cc26c', '4ec36b', '50c46a', '52c569', \n",
    "               '54c568', '56c667', '58c765', '5ac864', '5cc863', '5ec962', '60ca60', '63cb5f', '65cb5e', '67cc5c', '69cd5b', '6ccd5a', '6ece58', '70cf57', '73d056', '75d054', '77d153', \n",
    "               '7ad151', '7cd250', '7fd34e', '81d34d', '84d44b', '86d549', '89d548', '8bd646', '8ed645', '90d743', '93d741', '95d840', '98d83e', '9bd93c', '9dd93b', 'a0da39', 'a2da37', \n",
    "               'a5db36', 'a8db34', 'aadc32', 'addc30', 'b0dd2f', 'b2dd2d', 'b5de2b', 'b8de29', 'bade28', 'bddf26', 'c0df25', 'c2df23', 'c5e021', 'c8e020', 'cae11f', 'cde11d', 'd0e11c', \n",
    "               'd2e21b', 'd5e21a', 'd8e219', 'dae319', 'dde318', 'dfe318', 'e2e418', 'e5e419', 'e7e419', 'eae51a', 'ece51b', 'efe51c', 'f1e51d', 'f4e61e', 'f6e620', 'f8e621', 'fbe723', 'fde725']}\n",
    "\n",
    "Viz = {'min': 1983, 'max': 2020, 'palette': ['00FFFF', '0000FF']}\n",
    "\n",
    "Viz_class = {'palette': ['e9ae3b', 'ae6cae', 'e500a1', 'aec39b', '0c3d30', 'b44a2c', 'be3455', '7c0a02', 'a0c0dd']}\n",
    "Viz_class2 = {'palette': ['00FFFF', '0000FF']}\n",
    "Viz_2 = {'palette': ['black']}\n",
    "Viz_3 = {'palette': ['purple']}\n",
    "Viz_4 = {'palette': ['pink']}\n",
    "Viz_5 = {'palette': ['black', 'purple', 'pink', 'blue', 'green']}\n",
    "\n",
    "#2 is sage green, 3 is dark green, 9 is light blue\n",
    "\n",
    "lc_vis_params = {\n",
    "    'palette': ['05450a','086a10', '54a708', '78d203', '009900', 'c6b044',\n",
    "                'dcd159', 'dade48', 'fbff13', 'b6ff05', '27ff87', 'c24f44',\n",
    "                'a5a5a5', 'ff6d4c', '69fff8', 'f9ffa4', '1c0dff']\n",
    "}\n",
    "\n",
    "hs_year_vis_params = {\n",
    "    'min': 1983,'max': 2020,\n",
    "    'palette': ['05450a']\n",
    "}\n",
    "\n",
    "hs_veg_vis_params = {\n",
    "    'min': 1983,'max': 2020,\n",
    "    'palette': ['1c0dff']\n",
    "}"
   ]
  },
  {
   "cell_type": "code",
   "execution_count": 117,
   "metadata": {},
   "outputs": [
    {
     "data": {
      "application/vnd.jupyter.widget-view+json": {
       "model_id": "4deebb3e21d640468ef04f507832a7df",
       "version_major": 2,
       "version_minor": 0
      },
      "text/plain": [
       "Map(center=[34.0522, -118.2437], controls=(WidgetControl(options=['position', 'transparent_bg'], widget=HBox(c…"
      ]
     },
     "metadata": {},
     "output_type": "display_data"
    }
   ],
   "source": [
    "m = geemap.Map()\n",
    "\n",
    "# m.add_ee_layer(delta_90, lc_vis_params, name = \"delta\")\n",
    "# m.add_ee_layer(ag_update_all, Viz_2, name = \"ag\") # black\n",
    "m.add_ee_layer(hdw_dbh, Viz_4, name = \"pg\") # pink\n",
    "m.add_ee_layer(con_dbh, Viz_3, name = \"lf\") # purple\n",
    "m.add_ee_layer(dbh_classes, Viz_5, name = \"updates\")\n",
    "# m.add_ee_layer(pg_3310.gte(50), Viz_class2, name = \"pg 3310\")\n",
    "# m.add_ee_layer(trees, Viz_2, name = \"trees\")\n",
    "\n",
    "m.setCenter(-118.2437, 34.0522, 8)\n",
    "m"
   ]
  },
  {
   "cell_type": "code",
   "execution_count": null,
   "metadata": {},
   "outputs": [],
   "source": [
    "# def add_ee_layer(self, ee_image_object, vis_params, name):\n",
    "#     \"\"\"Adds a method for displaying Earth Engine image tiles to folium map.\"\"\"\n",
    "#     map_id_dict = ee.Image(ee_image_object).getMapId(vis_params)\n",
    "#     folium.raster_layers.TileLayer(\n",
    "#         tiles=map_id_dict['tile_fetcher'].url_format,\n",
    "#         attr='Map Data &copy; <a href=\"https://earthengine.google.com/\">Google Earth Engine</a>',\n",
    "#         name=name,\n",
    "#         overlay=True,\n",
    "#         control=True\n",
    "#     ).add_to(self)\n",
    "\n",
    "# # Add Earth Engine drawing method to folium.\n",
    "# folium.Map.add_ee_layer = add_ee_layer"
   ]
  },
  {
   "cell_type": "code",
   "execution_count": null,
   "metadata": {},
   "outputs": [],
   "source": [
    "# # Define the center of map\n",
    "# lat, lon = 34.0522, -118.2437\n",
    "\n",
    "# my_map = folium.Map(location=[lat, lon], zoom_start=10)\n",
    "# # # my_map.add_ee_layer(BA85, lc_vis_params, name = 'ba loss all')\n",
    "# # # my_map.add_ee_layer(high_severity.first(), lc_vis_params, name = 'high sev')\n",
    "\n",
    "# # # my_map.add_ee_layer(HS_mask, hs_veg_vis_params, name = 'high sev year max')\n",
    "# # my_map.add_ee_layer(fveg_year, lc_vis_params, name = 'high sev year max')\n",
    "# # my_map.add_ee_layer(HS_year_max_epsg, lc_vis_params, name = 'high sev year max')\n",
    "# # my_map.add_ee_layer(fveg_hs, lc_vis_params, name = 'fveg hs mask')\n",
    "# my_map.add_ee_layer(ag_update_all, Viz_3, name = 'ag')\n",
    "# my_map.add_ee_layer(pg_update_all, Viz_2, name = \"pg\")\n",
    "\n",
    "# my_map"
   ]
  }
 ],
 "metadata": {
  "kernelspec": {
   "display_name": "RRK",
   "language": "python",
   "name": "python3"
  },
  "language_info": {
   "codemirror_mode": {
    "name": "ipython",
    "version": 3
   },
   "file_extension": ".py",
   "mimetype": "text/x-python",
   "name": "python",
   "nbconvert_exporter": "python",
   "pygments_lexer": "ipython3",
   "version": "3.11.0"
  },
  "orig_nbformat": 4,
  "vscode": {
   "interpreter": {
    "hash": "5b58d271b63b85ce9c94d35e7240a3c51e8ff4914fa05b86b0472407618b75ae"
   }
  }
 },
 "nbformat": 4,
 "nbformat_minor": 2
}
