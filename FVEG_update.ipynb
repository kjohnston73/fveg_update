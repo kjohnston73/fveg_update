{
 "cells": [
  {
   "cell_type": "code",
   "execution_count": 1,
   "metadata": {},
   "outputs": [],
   "source": [
    "# Import required packages \n",
    "import ee\n",
    "import geemap\n",
    "\n",
    "# Initialize ee\n",
    "ee.Initialize()"
   ]
  },
  {
   "attachments": {},
   "cell_type": "markdown",
   "metadata": {},
   "source": [
    "# California Polygon"
   ]
  },
  {
   "cell_type": "code",
   "execution_count": 2,
   "metadata": {},
   "outputs": [],
   "source": [
    "cali = ee.FeatureCollection('projects/pyregence-ee/assets/rrk/RRK_California').first().geometry() # epsg 3310"
   ]
  },
  {
   "attachments": {},
   "cell_type": "markdown",
   "metadata": {},
   "source": [
    "# Region vector to raster"
   ]
  },
  {
   "cell_type": "code",
   "execution_count": 3,
   "metadata": {},
   "outputs": [
    {
     "data": {
      "text/html": [
       "<div><style>:root {\n",
       "  --font-color-primary: var(--jp-content-font-color0, rgba(0, 0, 0, 1));\n",
       "  --font-color-secondary: var(--jp-content-font-color2, rgba(0, 0, 0, 0.6));\n",
       "  --font-color-accent: rgba(123, 31, 162, 1);\n",
       "  --border-color: var(--jp-border-color2, #e0e0e0);\n",
       "  --background-color: var(--jp-layout-color0, white);\n",
       "  --background-color-row-even: var(--jp-layout-color1, white);\n",
       "  --background-color-row-odd: var(--jp-layout-color2, #eeeeee);\n",
       "}\n",
       "\n",
       "html[theme=\"dark\"],\n",
       "body[data-theme=\"dark\"],\n",
       "body.vscode-dark {\n",
       "  --font-color-primary: rgba(255, 255, 255, 1);\n",
       "  --font-color-secondary: rgba(255, 255, 255, 0.6);\n",
       "  --font-color-accent: rgb(173, 132, 190);\n",
       "  --border-color: #2e2e2e;\n",
       "  --background-color: #111111;\n",
       "  --background-color-row-even: #111111;\n",
       "  --background-color-row-odd: #313131;\n",
       "}\n",
       "\n",
       ".ee {\n",
       "  padding: 1em;\n",
       "  line-height: 1.5em;\n",
       "  min-width: 300px;\n",
       "  max-width: 1200px;\n",
       "  overflow-y: scroll;\n",
       "  max-height: 600px;\n",
       "  border: 1px solid var(--border-color);\n",
       "  font-family: monospace;\n",
       "}\n",
       "\n",
       ".ee li {\n",
       "  list-style-type: none;\n",
       "}\n",
       "\n",
       ".ee ul {\n",
       "  padding-left: 1.5em !important;\n",
       "  margin: 0;\n",
       "}\n",
       "\n",
       ".ee > ul {\n",
       "  padding-left: 0 !important;\n",
       "}\n",
       "\n",
       ".ee-open,\n",
       ".ee-shut {\n",
       "  color: var(--font-color-secondary);\n",
       "  cursor: pointer;\n",
       "  margin: 0;\n",
       "}\n",
       "\n",
       ".ee-open:hover,\n",
       ".ee-shut:hover {\n",
       "  color: var(--font-color-primary);\n",
       "}\n",
       "\n",
       ".ee-k {\n",
       "  color: var(--font-color-accent);\n",
       "  margin-right: 6px;\n",
       "}\n",
       "\n",
       ".ee-v {\n",
       "  color: var(--font-color-primary);\n",
       "}\n",
       "\n",
       ".ee-toggle {\n",
       "  display: none;\n",
       "}\n",
       "\n",
       ".ee-shut + ul {\n",
       "  display: none;\n",
       "}\n",
       "\n",
       ".ee-open + ul {\n",
       "  display: block;\n",
       "}\n",
       "\n",
       ".ee-shut::before {\n",
       "  display: inline-block;\n",
       "  content: \"▼\";\n",
       "  margin-right: 6px;\n",
       "  transform: rotate(-90deg);\n",
       "  transition: transform 0.2s;\n",
       "}\n",
       "\n",
       ".ee-open::before {\n",
       "  transform: rotate(0deg);\n",
       "  display: inline-block;\n",
       "  content: \"▼\";\n",
       "  margin-right: 6px;\n",
       "  transition: transform 0.2s;\n",
       "}\n",
       "</style><div class='ee'><ul><li><label class='ee-shut'>Object (6 properties)<input type='checkbox' class='ee-toggle'></label><ul><li><span class='ee-k'>Central Coast Region:</span><span class='ee-v'>1</span></li><li><span class='ee-k'>Limited mapping:</span><span class='ee-v'>3</span></li><li><span class='ee-k'>North Coast Region:</span><span class='ee-v'>6</span></li><li><span class='ee-k'>Not Mapped:</span><span class='ee-v'>5</span></li><li><span class='ee-k'>Sierra Nevada Region:</span><span class='ee-v'>4</span></li><li><span class='ee-k'>South Coast Region:</span><span class='ee-v'>2</span></li></ul></li></ul></div><script>function toggleHeader() {\n",
       "    const parent = this.parentElement;\n",
       "    parent.className = parent.className === \"ee-open\" ? \"ee-shut\" : \"ee-open\";\n",
       "}\n",
       "\n",
       "for (let c of document.getElementsByClassName(\"ee-toggle\")) {\n",
       "    c.onclick = toggleHeader;\n",
       "}</script></div>"
      ],
      "text/plain": [
       "<ee.dictionary.Dictionary at 0x1bf547f4810>"
      ]
     },
     "execution_count": 3,
     "metadata": {},
     "output_type": "execute_result"
    }
   ],
   "source": [
    "regions = ee.FeatureCollection('projects/pyregence-ee/assets/rrk/rrk_regions3')\n",
    "\n",
    "# Get a list of unique class names.\n",
    "distinctClassNames = ee.List(regions.aggregate_array('RRK_Region')).distinct()\n",
    "# Make a sequential list of integers with length equal to n classes.\n",
    "distinctClassCodes = ee.List.sequence(1, distinctClassNames.size())\n",
    "# Make a lookup table that maps unique 'Name' entries to an integer code value.\n",
    "lookup = ee.Dictionary.fromLists(distinctClassNames, distinctClassCodes)\n",
    "# Print the lookup table so you know how class name corresponds to integer IDs.\n",
    "lookup"
   ]
  },
  {
   "cell_type": "code",
   "execution_count": 5,
   "metadata": {},
   "outputs": [],
   "source": [
    "# Define a function to add the integer code value as a property of each feature based on the given 'Name' property.\n",
    "def addNameCode(feature):\n",
    "    thisClassName = feature.get('RRK_Region')\n",
    "    return feature.set('value', lookup.get(thisClassName))\n",
    "\n",
    "# Apply the addNameCode function to the feature collection.\n",
    "output = regions.map(addNameCode)\n",
    "\n",
    "# convert the featureCollection to an Image\n",
    "regions_raster = output.reduceToImage(properties = ['value'], reducer = ee.Reducer.first())"
   ]
  },
  {
   "attachments": {},
   "cell_type": "markdown",
   "metadata": {},
   "source": [
    "# Basal Area Lost Data"
   ]
  },
  {
   "cell_type": "code",
   "execution_count": 6,
   "metadata": {},
   "outputs": [],
   "source": [
    "# BA_loss data, in proportions (0-1). Rename each image to its 'year' and add a timestamp. epsg 4326\n",
    "BA85 = (ee.Image('projects/pyregence-ee/assets/rrk/BA_loss_1985').rename('1985').set({'system:time_start': '1985'}))\n",
    "BA86 = (ee.Image('projects/pyregence-ee/assets/rrk/BA_loss_1986').rename('1986').set({'system:time_start': '1986'}))\n",
    "BA87 = (ee.Image('projects/pyregence-ee/assets/rrk/BA_loss_1987').rename('1987').set({'system:time_start': '1987'}))\n",
    "BA88 = (ee.Image('projects/pyregence-ee/assets/rrk/BA_loss_1988').rename('1988').set({'system:time_start': '1988'}))\n",
    "BA89 = (ee.Image('projects/pyregence-ee/assets/rrk/BA_loss_1989').rename('1989').set({'system:time_start': '1989'}))\n",
    "BA90 = (ee.Image('projects/pyregence-ee/assets/rrk/BA_loss_1990').rename('1990').set({'system:time_start': '1990'}))\n",
    "BA91 = (ee.Image('projects/pyregence-ee/assets/rrk/BA_loss_1991').rename('1991').set({'system:time_start': '1991'}))\n",
    "BA92 = (ee.Image('projects/pyregence-ee/assets/rrk/BA_loss_1992').rename('1992').set({'system:time_start': '1992'}))\n",
    "BA93 = (ee.Image('projects/pyregence-ee/assets/rrk/BA_loss_1993').rename('1993').set({'system:time_start': '1993'}))\n",
    "BA94 = (ee.Image('projects/pyregence-ee/assets/rrk/BA_loss_1994').rename('1994').set({'system:time_start': '1994'}))\n",
    "BA95 = (ee.Image('projects/pyregence-ee/assets/rrk/BA_loss_1995').rename('1995').set({'system:time_start': '1995'}))\n",
    "BA96 = (ee.Image('projects/pyregence-ee/assets/rrk/BA_loss_1996').rename('1996').set({'system:time_start': '1996'}))\n",
    "BA97 = (ee.Image('projects/pyregence-ee/assets/rrk/BA_loss_1997').rename('1997').set({'system:time_start': '1997'}))\n",
    "BA98 = (ee.Image('projects/pyregence-ee/assets/rrk/BA_loss_1998').rename('1998').set({'system:time_start': '1998'}))\n",
    "BA99 = (ee.Image('projects/pyregence-ee/assets/rrk/BA_loss_1999').rename('1999').set({'system:time_start': '1999'}))\n",
    "BA00 = (ee.Image('projects/pyregence-ee/assets/rrk/BA_loss_2000').rename('2000').set({'system:time_start': '2000'}))\n",
    "BA01 = (ee.Image('projects/pyregence-ee/assets/rrk/BA_loss_2001').rename('2001').set({'system:time_start': '2001'}))\n",
    "BA02 = (ee.Image('projects/pyregence-ee/assets/rrk/BA_loss_2002').rename('2002').set({'system:time_start': '2002'}))\n",
    "BA03 = (ee.Image('projects/pyregence-ee/assets/rrk/BA_loss_2003').rename('2003').set({'system:time_start': '2003'}))\n",
    "BA04 = (ee.Image('projects/pyregence-ee/assets/rrk/BA_loss_2004').rename('2004').set({'system:time_start': '2004'}))\n",
    "BA05 = (ee.Image('projects/pyregence-ee/assets/rrk/BA_loss_2005').rename('2005').set({'system:time_start': '2005'}))\n",
    "BA06 = (ee.Image('projects/pyregence-ee/assets/rrk/BA_loss_2006').rename('2006').set({'system:time_start': '2006'}))\n",
    "BA07 = (ee.Image('projects/pyregence-ee/assets/rrk/BA_loss_2007').rename('2007').set({'system:time_start': '2007'}))\n",
    "BA08 = (ee.Image('projects/pyregence-ee/assets/rrk/BA_loss_2008').rename('2008').set({'system:time_start': '2008'}))\n",
    "BA09 = (ee.Image('projects/pyregence-ee/assets/rrk/BA_loss_2009').rename('2009').set({'system:time_start': '2009'}))\n",
    "BA10 = (ee.Image('projects/pyregence-ee/assets/rrk/BA_loss_2010').rename('2010').set({'system:time_start': '2010'}))\n",
    "BA11 = (ee.Image('projects/pyregence-ee/assets/rrk/BA_loss_2011').rename('2011').set({'system:time_start': '2011'}))\n",
    "BA12 = (ee.Image('projects/pyregence-ee/assets/rrk/BA_loss_2012').rename('2012').set({'system:time_start': '2012'}))\n",
    "BA13 = (ee.Image('projects/pyregence-ee/assets/rrk/BA_loss_2013').rename('2013').set({'system:time_start': '2013'}))\n",
    "BA14 = (ee.Image('projects/pyregence-ee/assets/rrk/BA_loss_2014').rename('2014').set({'system:time_start': '2014'}))\n",
    "BA15 = (ee.Image('projects/pyregence-ee/assets/rrk/BA_loss_2015').rename('2015').set({'system:time_start': '2015'}))\n",
    "BA16 = (ee.Image('projects/pyregence-ee/assets/rrk/BA_loss_2016').rename('2016').set({'system:time_start': '2016'}))\n",
    "BA17 = (ee.Image('projects/pyregence-ee/assets/rrk/BA_loss_2017').rename('2017').set({'system:time_start': '2017'}))\n",
    "BA18 = (ee.Image('projects/pyregence-ee/assets/rrk/BA_loss_2018').rename('2018').set({'system:time_start': '2018'}))\n",
    "BA19 = (ee.Image('projects/pyregence-ee/assets/rrk/BA_loss_2019').rename('2019').set({'system:time_start': '2019'}))\n",
    "BA20 = (ee.Image('projects/pyregence-ee/assets/rrk/BA_loss_2020').rename('2020').set({'system:time_start': '2020'}))"
   ]
  },
  {
   "cell_type": "code",
   "execution_count": 7,
   "metadata": {},
   "outputs": [],
   "source": [
    "# Compile all the basal area loss images into an image collection\n",
    "ba_loss_all = ee.ImageCollection.fromImages([BA85,\n",
    "                                             BA86,\n",
    "                                             BA87,\n",
    "                                             BA88,\n",
    "                                             BA89,\n",
    "                                             BA90,\n",
    "                                             BA91,\n",
    "                                             BA92,\n",
    "                                             BA93,\n",
    "                                             BA94,\n",
    "                                             BA95,\n",
    "                                             BA96,\n",
    "                                             BA97,\n",
    "                                             BA98,\n",
    "                                             BA99,\n",
    "                                             BA00,\n",
    "                                             BA01,\n",
    "                                             BA02,\n",
    "                                             BA03,\n",
    "                                             BA04,\n",
    "                                             BA05,\n",
    "                                             BA06,\n",
    "                                             BA07,\n",
    "                                             BA08,\n",
    "                                             BA09,\n",
    "                                             BA10,\n",
    "                                             BA11,\n",
    "                                             BA12,\n",
    "                                             BA13,\n",
    "                                             BA14,\n",
    "                                             BA15,\n",
    "                                             BA16,\n",
    "                                             BA17,\n",
    "                                             BA18,\n",
    "                                             BA19,\n",
    "                                             BA20])"
   ]
  },
  {
   "cell_type": "code",
   "execution_count": 8,
   "metadata": {},
   "outputs": [],
   "source": [
    "# Create mask of high severity pixels only (basal area loss GTE 75%)\n",
    "def maskHighSev(image):\n",
    "    highSev_mask = image.gte(0.75)\n",
    "    return image.updateMask(highSev_mask)\n",
    "\n",
    "high_severity = ba_loss_all.map(maskHighSev)"
   ]
  },
  {
   "cell_type": "code",
   "execution_count": 9,
   "metadata": {},
   "outputs": [],
   "source": [
    "# replace high severity pixel values with disturbance date\n",
    "def SevYear(image):\n",
    "    year = image.where(image.gte(0.0001), image.constant(ee.Number.parse(image.get('system:time_start'))))\n",
    "    return year\n",
    "\n",
    "highSev_year = high_severity.map(SevYear)"
   ]
  },
  {
   "cell_type": "code",
   "execution_count": 10,
   "metadata": {},
   "outputs": [],
   "source": [
    "# Convert ImageCollection to multi-band Image\n",
    "HS_year_bands = highSev_year.toBands()"
   ]
  },
  {
   "cell_type": "code",
   "execution_count": 11,
   "metadata": {},
   "outputs": [],
   "source": [
    "# Convert multi-band Image to single band of maximum (most recent) year of high severity\n",
    "HS_year_max = HS_year_bands.reduce(ee.Reducer.max())"
   ]
  },
  {
   "attachments": {},
   "cell_type": "markdown",
   "metadata": {},
   "source": [
    "# FVEG WHRtype, year and lifeform data"
   ]
  },
  {
   "cell_type": "code",
   "execution_count": 12,
   "metadata": {},
   "outputs": [],
   "source": [
    "# read in FVEG lifeform and year datasets, epsg 3857\n",
    "fveg_whrtype = ee.Image('projects/pyregence-ee/assets/rrk/fveg_whrtype')\n",
    "fveg_form = ee.Image('projects/pyregence-ee/assets/rrk/fveg_lifeform')\n",
    "fveg_year = ee.Image('projects/pyregence-ee/assets/rrk/fveg_year')\n",
    "\n",
    "# reproject fveg datasets to epsg 3310\n",
    "fveg_whrtype_3310 = fveg_whrtype.reproject(crs='EPSG:3310', scale = 30)\n",
    "fveg_form_3310 = fveg_form.reproject(crs='EPSG:3310', scale = 30)\n",
    "fveg_year_3310 = fveg_year.reproject(crs='EPSG:3310', scale = 30)"
   ]
  },
  {
   "cell_type": "code",
   "execution_count": 13,
   "metadata": {},
   "outputs": [],
   "source": [
    "# Reproject high severity mask to match region epsg (3310)\n",
    "HS_year_max_3310 = HS_year_max.reproject(crs= fveg_whrtype_3310.projection().crs(), scale = fveg_whrtype_3310.projection().nominalScale())"
   ]
  },
  {
   "cell_type": "code",
   "execution_count": 14,
   "metadata": {},
   "outputs": [],
   "source": [
    "# Create mask where high severity disturbance occurred after fveg map date\n",
    "HS_mask = HS_year_max_3310.gt(fveg_year_3310)\n",
    "\n",
    "# mask fveg lifeform to high severity for conversion classification\n",
    "fveg_form_hs = fveg_form_3310.mask(HS_mask)"
   ]
  },
  {
   "attachments": {},
   "cell_type": "markdown",
   "metadata": {},
   "source": [
    "# LandFire cover type"
   ]
  },
  {
   "cell_type": "code",
   "execution_count": 15,
   "metadata": {},
   "outputs": [],
   "source": [
    "# Pull in LandFire type\n",
    "lf_type = ee.Image('projects/pyregence-ee/assets/rrk/LC20_EVT_220_ca')\n",
    "\n",
    "# reproject to epsg 3310\n",
    "lf_type_3310 = lf_type.reproject(crs= fveg_whrtype_3310.projection().crs(), scale = fveg_whrtype_3310.projection().nominalScale())\n",
    "\n",
    "# clip to California\n",
    "lf_type_cali = lf_type_3310.clip(cali)\n",
    "\n",
    "# mask to high severity\n",
    "lf_type_hs = lf_type_cali.mask(HS_mask)"
   ]
  },
  {
   "attachments": {},
   "cell_type": "markdown",
   "metadata": {},
   "source": [
    "# Lifeform to lifeform conversion raster"
   ]
  },
  {
   "cell_type": "code",
   "execution_count": 16,
   "metadata": {},
   "outputs": [],
   "source": [
    "# fveg code to lifeform:\n",
    "# 1 - Conifer\n",
    "# 2 - Shrub\n",
    "# 3 - Herbaceous\n",
    "# 4 - Barren/Other\n",
    "# 5 - Urban\n",
    "# 6 - Hardwood\n",
    "# 7 - Water\n",
    "# 8 - Agriculture\n",
    "# 9 - Tree  *** #9 is a new classification added for this exercise***\n",
    "\n",
    "# relabel fveg conifer (1) and hardwood (6) to new fveg classification 'tree' (9)\n",
    "fveg_form_hs_con = fveg_form_hs.where(fveg_form_hs.eq(1), 9)\n",
    "fveg_form_hs_tree = fveg_form_hs_con.where(fveg_form_hs_con.eq(6), 9)"
   ]
  },
  {
   "cell_type": "code",
   "execution_count": 17,
   "metadata": {},
   "outputs": [],
   "source": [
    "# LF code to lifeform:\n",
    "# 1 - NA\n",
    "# 2 - Tree\n",
    "# 3 - Shrub\n",
    "# 4 - Herbaceous\n",
    "# 5 - Water\n",
    "# 6 - Barren\n",
    "# 7 - Developed\n",
    "# 8 - Sparse\n",
    "# 9 - Snow-Ice\n",
    "# 10 - Agriculture\n",
    "\n",
    "lf_lifeform = ee.Image('projects/pyregence-ee/assets/rrk/landfire_2020_lf_ca')\n",
    "lf_lifeform_3310 = lf_lifeform.reproject(crs= fveg_whrtype_3310.projection().crs(), scale = fveg_whrtype_3310.projection().nominalScale())"
   ]
  },
  {
   "cell_type": "code",
   "execution_count": 18,
   "metadata": {},
   "outputs": [],
   "source": [
    "# Create change raster (fveg_form_hs_tree to lf_lifeform)\n",
    "# 10 - FVEG herb 3 to LF herb 3\n",
    "# 20 - FVEG herb 3 to LF shrub 2\n",
    "# 30 - FVEG herb 3 to LF tree 1\n",
    "# 40 - FVEG shrub 2 to LF herb 3\n",
    "# 50 - FVEG shrub 2 to LF shrub 2\n",
    "# 60 - FVEG shrub 2 to LF tree 1 \n",
    "# 70 - FVEG tree 9 to LF herb 3\n",
    "# 80 - FVEG tree 9 to LF shrub 2\n",
    "# 90 - FVEG tree 9 to LF tree 1\n",
    "\n",
    "delta_10 = fveg_form_hs_tree.where(fveg_form_hs_tree.eq(3).And(lf_lifeform_3310.eq(3)), 10)\n",
    "delta_20 = delta_10.where(delta_10.eq(3).And(lf_lifeform_3310.eq(2)), 20)\n",
    "delta_30 = delta_20.where(delta_20.eq(3).And(lf_lifeform_3310.eq(1)), 30)\n",
    "delta_40 = delta_30.where(delta_30.eq(2).And(lf_lifeform_3310.eq(3)), 40)\n",
    "delta_50 = delta_40.where(delta_40.eq(2).And(lf_lifeform_3310.eq(2)), 50)\n",
    "delta_60 = delta_50.where(delta_50.eq(2).And(lf_lifeform_3310.eq(1)), 60)\n",
    "delta_70 = delta_60.where(delta_60.eq(9).And(lf_lifeform_3310.eq(3)), 70)\n",
    "delta_80 = delta_70.where(delta_70.eq(9).And(lf_lifeform_3310.eq(2)), 80)\n",
    "delta_90 = delta_80.where(delta_80.eq(9).And(lf_lifeform_3310.eq(1)), 90)"
   ]
  },
  {
   "attachments": {},
   "cell_type": "markdown",
   "metadata": {},
   "source": [
    "# Rangeland Analysis Platform"
   ]
  },
  {
   "cell_type": "code",
   "execution_count": 19,
   "metadata": {},
   "outputs": [],
   "source": [
    "year = '2021' \n",
    "ag = (ee.ImageCollection(\"projects/rangeland-analysis-platform/vegetation-cover-v3\")\n",
    "      .filterDate(ee.Date(year)) \n",
    "      .select('AFG')) \n",
    "pg = (ee.ImageCollection(\"projects/rangeland-analysis-platform/vegetation-cover-v3\")\n",
    "      .filterDate( ee.Date(year)) \n",
    "      .select('PFG')) "
   ]
  },
  {
   "cell_type": "code",
   "execution_count": 20,
   "metadata": {},
   "outputs": [],
   "source": [
    "# ImageCollection to Image\n",
    "ag_ = ag.toBands()\n",
    "pg_ = pg.toBands()"
   ]
  },
  {
   "cell_type": "code",
   "execution_count": 21,
   "metadata": {},
   "outputs": [],
   "source": [
    "# reproject\n",
    "ag_3310 = ag_.reproject(crs= fveg_whrtype_3310.projection().crs(), scale = fveg_whrtype_3310.projection().nominalScale())\n",
    "pg_3310 = pg_.reproject(crs= fveg_whrtype_3310.projection().crs(), scale = fveg_whrtype_3310.projection().nominalScale())"
   ]
  },
  {
   "attachments": {},
   "cell_type": "markdown",
   "metadata": {},
   "source": [
    "# CFO data"
   ]
  },
  {
   "cell_type": "code",
   "execution_count": 22,
   "metadata": {},
   "outputs": [],
   "source": [
    "# CFO canopy cover, epsg 3310\n",
    "CFO_CC_2020 = ee.Image('projects/pyregence-ee/assets/rrk/CFO_CC_2020')\n",
    "CFO_CC_2019 = ee.Image('projects/pyregence-ee/assets/rrk/CFO_CC_2019')\n",
    "CFO_CC_2018 = ee.Image('projects/pyregence-ee/assets/rrk/CFO_CC_2018')\n",
    "CFO_CC_2017 = ee.Image('projects/pyregence-ee/assets/rrk/CFO_CC_2017')\n",
    "CFO_CC_2016 = ee.Image('projects/pyregence-ee/assets/rrk/CFO_CC_2016')\n",
    "\n",
    "# CFO canopy height, epsg 3310\n",
    "CFO_CH_2020 = ee.Image('projects/pyregence-ee/assets/rrk/CFO_CH_2020')\n",
    "CFO_CH_2019 = ee.Image('projects/pyregence-ee/assets/rrk/CFO_CH_2019')\n",
    "CFO_CH_2018 = ee.Image('projects/pyregence-ee/assets/rrk/CFO_CH_2018')\n",
    "CFO_CH_2017 = ee.Image('projects/pyregence-ee/assets/rrk/CFO_CH_2017')\n",
    "CFO_CH_2016 = ee.Image('projects/pyregence-ee/assets/rrk/CFO_CH_2016')\n",
    "\n",
    "# Images to imageCollection\n",
    "cfo_cc = (CFO_CC_2020\n",
    "          .addBands(CFO_CC_2019.rename('b2019'))\n",
    "          .addBands(CFO_CC_2018.rename('b2018'))\n",
    "          .addBands(CFO_CC_2017.rename('b2017'))\n",
    "          .addBands(CFO_CC_2016.rename('b2016')))\n",
    "cfo_ch = (CFO_CH_2020\n",
    "          .addBands(CFO_CH_2019.rename('b2019'))\n",
    "          .addBands(CFO_CH_2018.rename('b2018'))\n",
    "          .addBands(CFO_CH_2017.rename('b2017'))\n",
    "          .addBands(CFO_CH_2016.rename('b2016')))\n",
    "\n",
    "# reduce to single band image of average values\n",
    "cc = cfo_cc.reduce(ee.Reducer.mean())\n",
    "ch = cfo_ch.reduce(ee.Reducer.mean())\n",
    "\n",
    "# reproject\n",
    "cc2 = cc.reproject(crs= fveg_whrtype_3310.projection().crs(), scale = fveg_whrtype_3310.projection().nominalScale())\n",
    "ch2 = ch.reproject(crs= fveg_whrtype_3310.projection().crs(), scale = fveg_whrtype_3310.projection().nominalScale())\n",
    "\n",
    "# clip to california\n",
    "cc_ca = cc2.clip(cali)\n",
    "ch_ca = ch2.clip(cali)"
   ]
  },
  {
   "cell_type": "code",
   "execution_count": 23,
   "metadata": {},
   "outputs": [],
   "source": [
    "# FVEG CC classes\n",
    "# 5 - Sparse Cover (S) (<25%)\n",
    "# 4 - Open Cover (P) (25-40%)\n",
    "# 3 - Null\n",
    "# 2 - Moderate Cover (M) (40-60%)\n",
    "# 1 - Dense Cover (D) (>60%)\n",
    "\n",
    "cc_class0 = cc_ca.where(cc2.lt(10), 3)\n",
    "cc_class1 = cc_class0.where(cc2.lt(25).And(cc_class0.gte(10)), 5)\n",
    "cc_class2 = cc_class1.where(cc_class1.lt(40).And(cc_class1.gte(25)), 4)\n",
    "cc_class3 = cc_class2.where(cc_class2.lt(60).And(cc_class2.gte(40)), 2)\n",
    "cc_classes = cc_class3.where(cc_class3.gte(60), 1)"
   ]
  },
  {
   "cell_type": "code",
   "execution_count": 24,
   "metadata": {},
   "outputs": [],
   "source": [
    "# FVEG CH (size) classes\n",
    "# 6 - seedling tree (<1.0\")\n",
    "# 3 - Sapling tree (1.0 - 5.99\")\n",
    "# 5 - Pole tree (6.0 - 10.99\")\n",
    "# 1 - Small tree (11.0 - 23.99\")\n",
    "# 2 - medium/large tree (GTE 24\")\n",
    "# 4 - Null\n",
    "# 7 - Multilayered (FVEG only)\n",
    "\n",
    "# convert height in m to height in feet\n",
    "ht_ft = ch_ca.multiply(3.28084)\n",
    "\n",
    "# convert height in feet to dbh in inches via FIA based regional height-to-dbh equations\n",
    "sn_dbh_sw = (ht_ft.multiply(223.39)).divide(ht_ft.add(712.20))\n",
    "sn_dbh_hw = (ht_ft.multiply(0.294)).add(-0.391)\n",
    "sc_dbh_sw = (ht_ft.multiply(108.97)).divide(ht_ft.add(216.30))\n",
    "sc_dbh_hw = (ht_ft.multiply(175.17)).divide(ht_ft.add(424.31))\n",
    "nc_dbh_sw = (ht_ft.pow(1.13)).add(0.128)\n",
    "nc_dbh_hw = (ht_ft.multiply(0.242)).add(0.135)\n",
    "cc_dbh_sw = (ht_ft.multiply(0.244)).add(0.588)\n",
    "cc_dbh_hw = (ht_ft.multiply(68.51)).divide(ht_ft.add(161.40))\n",
    "\n",
    "# convert height (m) to FVEG DBH class (see John Battle's 'Height to DBH statewide results 23March2023 soft v hard v2.doc' for details)\n",
    "# hardwood_dbh0 = ch_ca.where(ch_ca.eq(0), 4)\n",
    "# hardwood_dbh1 = hardwood_dbh0.where(hardwood_dbh0.lte(0.93).And(hardwood_dbh0.gt(0)), 6)\n",
    "# hardwood_dbh2 = hardwood_dbh1.where(hardwood_dbh1.lte(6.45).And(hardwood_dbh1.gt(0.93)), 3)\n",
    "# hardwood_dbh3 = hardwood_dbh2.where(hardwood_dbh2.lte(12.42).And(hardwood_dbh2.gt(6.45)), 5)\n",
    "# hardwood_dbh4 = hardwood_dbh3.where(hardwood_dbh3.lte(28.83).And(hardwood_dbh3.gt(12.42)), 1)\n",
    "# hardwood_dbh_classes = hardwood_dbh4.where(hardwood_dbh4.gt(28.83), 2)\n",
    "\n",
    "# conifer_dbh0 = ch_ca.where(ch_ca.eq(0), 0)\n",
    "# conifer_dbh1 = conifer_dbh0.where(conifer_dbh0.lte(1.19).And(conifer_dbh0.gt(0)), 6)\n",
    "# conifer_dbh2 = conifer_dbh1.where(conifer_dbh1.lte(7.10).And(conifer_dbh1.gt(1.19)), 3)\n",
    "# conifer_dbh3 = conifer_dbh2.where(conifer_dbh2.lte(13.03).And(conifer_dbh2.gt(7.10)), 5)\n",
    "# conifer_dbh4 = conifer_dbh3.where(conifer_dbh3.lte(28.45).And(conifer_dbh3.gt(13.03)), 1)\n",
    "# conifer_dbh_classes = conifer_dbh4.where(conifer_dbh4.gt(28.45), 2)"
   ]
  },
  {
   "cell_type": "code",
   "execution_count": 25,
   "metadata": {},
   "outputs": [],
   "source": [
    "# function to convert DBH to WHRsize class\n",
    "def dbh_to_whrsize(image):\n",
    "    whrsize_0 = image.where(image.lte(0), 0)\n",
    "    whrsize_1 = whrsize_0.where(whrsize_0.gt(0).And(whrsize_0.lt(1)), 1)\n",
    "    whrsize_2 = whrsize_1.where(whrsize_1.gte(1).And(whrsize_1.lt(6)), 2)\n",
    "    whrsize_3 = whrsize_2.where(whrsize_2.gte(6).And(whrsize_2.lt(11)), 3)\n",
    "    whrsize_4 = whrsize_3.where(whrsize_3.gte(11).And(whrsize_3.lt(24)), 4)\n",
    "    whrsize_5 = whrsize_4.where(whrsize_4.gte(24), 5)\n",
    "    return whrsize_5"
   ]
  },
  {
   "cell_type": "code",
   "execution_count": 26,
   "metadata": {},
   "outputs": [],
   "source": [
    "# Sierra Nevada\n",
    "sn_whrsize_sw = dbh_to_whrsize(sn_dbh_sw)\n",
    "sn_whrsize_hw = dbh_to_whrsize(sn_dbh_hw)"
   ]
  },
  {
   "cell_type": "code",
   "execution_count": 27,
   "metadata": {},
   "outputs": [],
   "source": [
    "# Southern California\n",
    "sc_whrsize_sw = dbh_to_whrsize(sc_dbh_sw)\n",
    "sc_whrsize_hw = dbh_to_whrsize(sc_dbh_hw)"
   ]
  },
  {
   "cell_type": "code",
   "execution_count": 28,
   "metadata": {},
   "outputs": [],
   "source": [
    "# North Coast\n",
    "nc_whrsize_sw = dbh_to_whrsize(nc_dbh_sw)\n",
    "nc_whrsize_hw = dbh_to_whrsize(nc_dbh_hw)"
   ]
  },
  {
   "cell_type": "code",
   "execution_count": 29,
   "metadata": {},
   "outputs": [],
   "source": [
    "# Central Coast\n",
    "cc_whrsize_sw = dbh_to_whrsize(cc_dbh_sw)\n",
    "cc_whrsize_hw = dbh_to_whrsize(cc_dbh_hw)"
   ]
  },
  {
   "attachments": {},
   "cell_type": "markdown",
   "metadata": {},
   "source": [
    "# Mask for areas in high severity but WHRtype NOT UPDATED are where, value = 100:\n",
    "\n",
    "       Herb-to-herb conversion where annual grass (AG) cover <50% and where perennial grass (PG) cover <50%\n",
    "\n",
    "       Shrub-to-shrub conversion\n",
    "\n",
    "       Tree-to-Tree conversion\n"
   ]
  },
  {
   "cell_type": "code",
   "execution_count": 22,
   "metadata": {},
   "outputs": [],
   "source": [
    "# no_update_all_mask = delta_90.mask(delta_90.eq(10).And(ag_.lt(50)).And(pg_.lt(50)) # Herb-to-herb conversion where annual grass (AG) cover <50% and where perennial grass (PG) cover <50%\n",
    "#                                    .Or(delta_90.eq(50)) # Shrub-to-shrub conversion\n",
    "#                                    .Or(delta_90.eq(90))) # Tree-to-Tree conversion\n",
    "# no_update_all = no_update_all_mask.where(no_update_all_mask, 100)"
   ]
  },
  {
   "attachments": {},
   "cell_type": "markdown",
   "metadata": {},
   "source": [
    "# Mask for areas in high severity updated to 'Annual Grassland', value = 200:\n",
    "\n",
    "    Herb-to-herb conversion where AG cover >50%\n",
    "\n",
    "    Shrub-to-Herb conversion where CH <1m & AG cover >50%\n",
    "\n",
    "    Tree-to-Herb conversion where CH <2m & AG cover >50%"
   ]
  },
  {
   "cell_type": "code",
   "execution_count": 30,
   "metadata": {},
   "outputs": [],
   "source": [
    "ag_update_all_mask = delta_90.mask(delta_90.eq(10).And(ag_3310.gte(50)) # Herb-to-herb conversion where AG cover >50%\n",
    "                                    .Or(delta_90.eq(40).And(ch_ca.lt(1)).And(ag_3310.gte(50))) # Shrub-to-Herb conversion where CH <1m & AG cover >50%\n",
    "                                    .Or(delta_90.eq(70).And(ch_ca.lt(2)).And(ag_3310.gte(50)))) # Tree-to-Herb conversion where CH <2m & AG cover >50%\n",
    "ag_update_all = ag_update_all_mask.where(ag_update_all_mask, 200)"
   ]
  },
  {
   "attachments": {},
   "cell_type": "markdown",
   "metadata": {},
   "source": [
    "# Mask for areas in high severity updated to 'Perennial Grassland', value = 300:\n",
    "\n",
    "    Herb-to-herb conversion where PG cover >50%\n",
    "\n",
    "    Shrub-to-Herb conversion where CH <1m & PG cover >50%\n",
    "\n",
    "    Tree-to-Herb conversion where CH <2m & PG cover >50%"
   ]
  },
  {
   "cell_type": "code",
   "execution_count": 31,
   "metadata": {},
   "outputs": [],
   "source": [
    "pg_update_all_mask = delta_90.mask(delta_90.eq(10).And(pg_3310.gte(50)) # Herb-to-herb conversion where PG cover >50%\n",
    "                                    .Or(delta_90.eq(40).And(ch_ca.lt(1)).And(pg_3310.gte(50))) # Shrub-to-Herb conversion where CH <1m & PG cover >50%\n",
    "                                    .Or(delta_90.eq(70).And(ch_ca.lt(2)).And(pg_3310.gte(50)))) # Tree-to-Herb conversion where CH <2m & PG cover >50%\n",
    "pg_update_all = pg_update_all_mask.where(pg_update_all_mask, 300)"
   ]
  },
  {
   "attachments": {},
   "cell_type": "markdown",
   "metadata": {},
   "source": [
    "# Mask for areas in high severity updated using LandFire-FVEG crosswalk, value = 400:\n",
    "\n",
    "    Shrub-to-Herb conversion where AG cover <50% and where PG cover <50%\n",
    "\n",
    "    Tree-to-Herb conversion where AG cover <50% and where PG cover <50%\n",
    "\n",
    "    Herb-to-Shrub\n",
    "\n",
    "    Tree-to-Shrub\n",
    "\n",
    "    Herb-to-Tree\n",
    "\n",
    "    Shrub-to-Tree"
   ]
  },
  {
   "cell_type": "code",
   "execution_count": 32,
   "metadata": {},
   "outputs": [],
   "source": [
    "lf_update_all_mask = delta_90.mask(delta_90.eq(40).And(ch_ca.lt(1)).And(ag_3310.lt(50)).And(pg_3310.lt(50)) # Shrub-to-Herb conversion where CH <1m and AG cover <50% and PG cover <50%\n",
    "                                    .Or(delta_90.eq(40).And(ch_ca.gte(1))) # Shrub-to-Herb conversion where CH >1m \n",
    "                                    .Or(delta_90.eq(70).And(ch_ca.lt(2)).And(ag_3310.lt(50)).And(pg_3310.lt(50))) # Tree-to-Herb conversion where CH <2m and AG cover <50% and PG cover <50%\n",
    "                                    .Or(delta_90.eq(70).And(ch_ca.gte(2))) # Tree-to-Herb conversion where CH >2m\n",
    "                                    .Or(delta_90.eq(20)) # Herb-to-Shrub\n",
    "                                    .Or(delta_90.eq(80)) # Tree-to-Shrub\n",
    "                                    .Or(delta_90.eq(30)) # Herb-to-Tree\n",
    "                                    .Or(delta_90.eq(60))) # Shrub-to-Tree\n",
    "lf_update_all = lf_update_all_mask.where(lf_update_all_mask, 400)"
   ]
  },
  {
   "attachments": {},
   "cell_type": "markdown",
   "metadata": {},
   "source": [
    "# Remap LandFire evt_code to crosswalked FVEG WHRtype code"
   ]
  },
  {
   "cell_type": "code",
   "execution_count": 33,
   "metadata": {},
   "outputs": [],
   "source": [
    "# remap Landfire evt_code to crosswalked FVEG WHRtype code\n",
    "fromList = [7136,7067,7171,7071,9301,9307,9308,7081,9150,9151,7061,7011,9062,9032,9006,9008,9110,9125,7735,9146,9147,9153,9160,7733,7295,9018,9213,9246,7265,7114,7034,7264,7923,7933,7921,7931,7113,\n",
    "            7029,7118,7177,7965,7966,7964,7963,7968,7985,7986,7984,7988,7128,7092,7037,7173,9827,9535,9035,9652,9152,9534,9034,7082,9533,9310,7087,7088,7090,9329,7073,7109,9030,9010,9654,9154,7045,\n",
    "            9011,9148,7662,7920,7930,7031,7017,7021,7022,7170,7008,7058,7124,7065,7096,7097,7099,7103,7270,7234,7105,7108,7110,7062,7084,7106,7107,7086,7014,7261,7098,7260,9503,9003,7156,7157,7159,\n",
    "            7158,9021,9022,7962,7960,7982,7980,7967,7987,7129,7130,7131,7123,9309,9505,9005,7135,9810,7144,7145,7146,7924,7934,7019,7054,7015,7032,7020,7033,7044,7055,7668,7079,7080,7125,7153,7126,\n",
    "            7127,7027,7030,7028,7043,7051,9337,9302,7298,7296,7297,7299,9336,9327,9828,9328,7922,7900,7901,7903,7902,7904,7932,7910,7911,7913,7912,7914,7961,7981,7112,7152,7151,9629,9129,9633,9133,\n",
    "            7292,7172,7137,9017,9272,9829]\n",
    "\n",
    "toList = [44,44,44,44,11,11,11,41,41,41,35,35,9,9,9,9,9,9,9,9,9,9,9,9,9,9,9,9,50,50,50,53,57,57,58,58,27,27,27,26,23,23,23,23,23,23,23,23,23,21,21,3,3,56,56,56,56,46,56,56,60,60,60,60,60,60,60,64,\n",
    "          64,61,61,61,61,31,46,46,46,59,59,24,16,1,1,1,1,28,33,33,15,15,15,15,15,15,15,15,15,7,7,7,7,7,14,14,13,13,5,5,5,5,5,5,5,5,63,63,63,63,20,20,6,6,6,6,6,6,6,6,6,6,6,6,6,6,55,17,19,2,8,8,8,8,\n",
    "          45,30,30,30,30,30,30,29,29,29,29,29,12,12,12,12,12,12,12,12,12,12,12,12,12,12,12,12,12,12,12,12,12,12,43,43,51,47,47,47,47,47,47,48,4,10,10,10,10]\n",
    "\n",
    "landfire_whrtype = lf_type_hs.remap(fromList, toList, 0)\n",
    "\n",
    "# Mask landfire whrtype to where landfire update is needed\n",
    "lf_update_mask = landfire_whrtype.mask(lf_update_all)"
   ]
  },
  {
   "attachments": {},
   "cell_type": "markdown",
   "metadata": {},
   "source": [
    "# Update FVEG WHRtype"
   ]
  },
  {
   "cell_type": "code",
   "execution_count": 34,
   "metadata": {},
   "outputs": [],
   "source": [
    "# annual grasslands update\n",
    "fveg_ag_update = fveg_whrtype_3310.where(ag_update_all, 11)\n",
    "\n",
    "# perennial grasslands update\n",
    "fveg_pg_update = fveg_ag_update.where(pg_update_all, 6)\n",
    "\n",
    "# landfire update\n",
    "fveg_update_all2 = fveg_pg_update.where(lf_update_mask, landfire_whrtype)"
   ]
  },
  {
   "cell_type": "code",
   "execution_count": 29,
   "metadata": {},
   "outputs": [],
   "source": [
    "# task = ee.batch.Export.image.toDrive(fveg_update_all2,\n",
    "#                                      description='fveg_update_all2',\n",
    "#                                      folder = 'FVEG_updates',\n",
    "#                                      region = cali,\n",
    "#                                      scale=30,\n",
    "#                                      fileNamePrefix='fveg_update_all2',\n",
    "#                                      crs='EPSG:3310',\n",
    "#                                      maxPixels= 1e13,\n",
    "#                                      fileFormat='GeoTIFF')\n",
    "# task.start()"
   ]
  },
  {
   "cell_type": "code",
   "execution_count": 35,
   "metadata": {},
   "outputs": [],
   "source": [
    "# task.status()"
   ]
  },
  {
   "attachments": {},
   "cell_type": "markdown",
   "metadata": {},
   "source": [
    "# The update mask"
   ]
  },
  {
   "cell_type": "code",
   "execution_count": 36,
   "metadata": {},
   "outputs": [],
   "source": [
    "# the update mask\n",
    "final_update_mask = (ag_update_all\n",
    "                     .addBands(pg_update_all)\n",
    "                     .addBands(lf_update_all))\n",
    "\n",
    "# reduce to single band image of max values\n",
    "final_update_mask2 = final_update_mask.reduce(ee.Reducer.max())"
   ]
  },
  {
   "cell_type": "code",
   "execution_count": 37,
   "metadata": {},
   "outputs": [],
   "source": [
    "# task2 = ee.batch.Export.image.toDrive(image=final_update_mask2,\n",
    "#                                      description='final_update_mask2',\n",
    "#                                      folder = 'FVEG_updates',\n",
    "#                                      region = cali,\n",
    "#                                      scale=30,\n",
    "#                                      fileNamePrefix='final_update_mask2',\n",
    "#                                      crs='EPSG:3310',\n",
    "#                                      maxPixels= 1e13,\n",
    "#                                      fileFormat='GeoTIFF')\n",
    "# task2.start()"
   ]
  },
  {
   "cell_type": "code",
   "execution_count": 38,
   "metadata": {},
   "outputs": [],
   "source": [
    "# task2.status()"
   ]
  },
  {
   "attachments": {},
   "cell_type": "markdown",
   "metadata": {},
   "source": [
    "# CFO data for tree cover types"
   ]
  },
  {
   "cell_type": "code",
   "execution_count": 39,
   "metadata": {},
   "outputs": [],
   "source": [
    "# FVEG WHRtype to life form\n",
    "# remap FVEG WHRtype to crosswalked life form\n",
    "fromList2 = [1,2,3,4,5,6,7,8,9,10,11,12,13,14,15,16,17,18,19,20,21,22,23,24,25,26,27,28,29,30,31,32,33,34,35,36,37,38,39,40,41,42,43,44,45,46,47,48,49,50,51,52,53,54,55,56,57,58,59,60,61,62,63,64,65]\n",
    "\n",
    "toList2 = [1,1,1,1,2,3,2,1,4,3,3,5,6,1,2,1,1,7,1,3,2,7,8,1,7,1,6,1,1,2,1,2,2,8,6,2,8,7,8,8,2,8,8,2,3,3,6,7,8,6,6,8,6,6,1,6,2,1,6,2,2,6,8,2,6]\n",
    "\n",
    "updated_lifeform = fveg_update_all2.remap(fromList2, toList2, 0)"
   ]
  },
  {
   "cell_type": "code",
   "execution_count": 40,
   "metadata": {},
   "outputs": [],
   "source": [
    "# FVEG WHRsize and WHRdensity for trees outside CA political boundary\n",
    "whrden = ee.Image('projects/pyregence-ee/assets/rrk/WHRDENSITY')\n",
    "whrsize = ee.Image('projects/pyregence-ee/assets/rrk/WHRSIZE')"
   ]
  },
  {
   "cell_type": "code",
   "execution_count": 41,
   "metadata": {},
   "outputs": [],
   "source": [
    "# Cover Classes\n",
    "# mask of where there are trees\n",
    "trees = updated_lifeform.mask(updated_lifeform.eq(1) # where are the trees?\n",
    "                              .Or(updated_lifeform.eq(6)))\n",
    "den_trees_mask = whrden.mask(trees) # mask WHRdensity to where there are trees\n",
    "fveg_cc = den_trees_mask.where(den_trees_mask, whrden) # fill in mask with WHRdensity values\n",
    "whr_den_update = fveg_cc.where(trees, cc_classes) # update with CFO cover classes"
   ]
  },
  {
   "cell_type": "code",
   "execution_count": 35,
   "metadata": {},
   "outputs": [],
   "source": [
    "# task3 = ee.batch.Export.image.toDrive(image=whr_den_update,\n",
    "#                                      description='whr_den_update',\n",
    "#                                      folder = 'FVEG_updates',\n",
    "#                                      region = cali,\n",
    "#                                      scale=30,\n",
    "#                                      fileNamePrefix='whr_den_update',\n",
    "#                                      crs='EPSG:3310',\n",
    "#                                      maxPixels= 1e13,\n",
    "#                                      fileFormat='GeoTIFF')\n",
    "# task3.start()"
   ]
  },
  {
   "cell_type": "code",
   "execution_count": 42,
   "metadata": {},
   "outputs": [],
   "source": [
    "# task3.status()"
   ]
  },
  {
   "cell_type": "code",
   "execution_count": 43,
   "metadata": {},
   "outputs": [],
   "source": [
    "# DBH Classes\n",
    "con_mask = updated_lifeform.mask(updated_lifeform.eq(1)) # where are the conifers?\n",
    "hdw_mask = updated_lifeform.mask(updated_lifeform.eq(6)) # where are the hardwoods?\n",
    "\n",
    "size_trees_mask = whrsize.mask(trees) # mask WHRsize to where there are trees\n",
    "fveg_size = size_trees_mask.where(size_trees_mask, whrsize) # fill in mask with WHRsize values\n",
    "\n",
    "# con_dbh = fveg_size.where(con_mask, conifer_dbh_classes) # update conifer size classes\n",
    "# hdw_dbh = con_dbh.where(hdw_mask, hardwood_dbh_classes) # update hardwood size classes\n",
    "# whr_size_update = hdw_dbh.where(fveg_size.eq(7), 7) # replace FVEG \"multi-layered\" classification"
   ]
  },
  {
   "cell_type": "code",
   "execution_count": 44,
   "metadata": {},
   "outputs": [],
   "source": [
    "# update whrsize in Sierra Nevada\n",
    "v1 = fveg_size.where(regions_raster.eq(4).And(con_mask), sn_whrsize_sw)\n",
    "v2 = v1.where(regions_raster.eq(4).And(hdw_mask), sn_whrsize_hw)"
   ]
  },
  {
   "cell_type": "code",
   "execution_count": 45,
   "metadata": {},
   "outputs": [],
   "source": [
    "# update whrsize in Southern California\n",
    "v3 = v2.where(regions_raster.eq(2).And(con_mask), sc_whrsize_sw)\n",
    "v4 = v3.where(regions_raster.eq(2).And(hdw_mask), sc_whrsize_hw)"
   ]
  },
  {
   "cell_type": "code",
   "execution_count": 46,
   "metadata": {},
   "outputs": [],
   "source": [
    "# update whrsize in North Coast\n",
    "v5 = v4.where(regions_raster.eq(6).And(con_mask), nc_whrsize_sw)\n",
    "v6 = v5.where(regions_raster.eq(6).And(hdw_mask), nc_whrsize_hw)"
   ]
  },
  {
   "cell_type": "code",
   "execution_count": 48,
   "metadata": {},
   "outputs": [],
   "source": [
    "# update whrsize in Central Coast\n",
    "v7 = v6.where(regions_raster.eq(1).And(con_mask), cc_whrsize_sw)\n",
    "whr_size_update = v7.where(regions_raster.eq(1).And(hdw_mask), cc_whrsize_hw)"
   ]
  },
  {
   "cell_type": "code",
   "execution_count": 49,
   "metadata": {},
   "outputs": [],
   "source": [
    "# task4 = ee.batch.Export.image.toDrive(image=whr_size_update,\n",
    "#                                      description='whr_size_update',\n",
    "#                                      folder = 'FVEG_updates',\n",
    "#                                      region = cali,\n",
    "#                                      scale=30,\n",
    "#                                      fileNamePrefix='whr_size_update',\n",
    "#                                      crs='EPSG:3310',\n",
    "#                                      maxPixels= 1e13,\n",
    "#                                      fileFormat='GeoTIFF')\n",
    "# task4.start()"
   ]
  },
  {
   "cell_type": "code",
   "execution_count": 50,
   "metadata": {},
   "outputs": [
    {
     "data": {
      "text/plain": [
       "{'state': 'READY',\n",
       " 'description': 'whr_size_update',\n",
       " 'creation_timestamp_ms': 1680300483293,\n",
       " 'update_timestamp_ms': 1680300483293,\n",
       " 'start_timestamp_ms': 0,\n",
       " 'task_type': 'EXPORT_IMAGE',\n",
       " 'id': 'YHJDQIPGB6A3RIXWLPG37JMB',\n",
       " 'name': 'projects/earthengine-legacy/operations/YHJDQIPGB6A3RIXWLPG37JMB'}"
      ]
     },
     "execution_count": 50,
     "metadata": {},
     "output_type": "execute_result"
    }
   ],
   "source": [
    "# task4.status()"
   ]
  }
 ],
 "metadata": {
  "kernelspec": {
   "display_name": "RRK",
   "language": "python",
   "name": "python3"
  },
  "language_info": {
   "codemirror_mode": {
    "name": "ipython",
    "version": 3
   },
   "file_extension": ".py",
   "mimetype": "text/x-python",
   "name": "python",
   "nbconvert_exporter": "python",
   "pygments_lexer": "ipython3",
   "version": "3.11.0"
  },
  "orig_nbformat": 4,
  "vscode": {
   "interpreter": {
    "hash": "5b58d271b63b85ce9c94d35e7240a3c51e8ff4914fa05b86b0472407618b75ae"
   }
  }
 },
 "nbformat": 4,
 "nbformat_minor": 2
}
